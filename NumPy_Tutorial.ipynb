{
 "cells": [
  {
   "cell_type": "markdown",
   "metadata": {},
   "source": [
    "#  Introduction to NumPy"
   ]
  },
  {
   "cell_type": "markdown",
   "metadata": {},
   "source": [
    "## Features of the NumPy library\n",
    "- NumPy deals with two datatypes: numpy.array and numpy.matrix. numpy.array can be used to define any general n-dimensional array, whereas numpy.matrix is a 2d-array.\n",
    "- Arrays in NumPy: NumPy’s main object is the homogeneous multidimensional array.\n",
    "- In NumPy dimensions are called **axes**. The number of axes is **rank**.\n",
    "- NumPy’s array class is called **ndarray**. It is also known by the alias **array**."
   ]
  },
  {
   "cell_type": "code",
   "execution_count": 11,
   "metadata": {},
   "outputs": [
    {
     "name": "stdout",
     "output_type": "stream",
     "text": [
      "arr1 is:\n",
      "[[1 2]\n",
      " [3 4]]\n",
      "mat1 is:\n",
      "[[1 2]\n",
      " [3 4]]\n"
     ]
    },
    {
     "ename": "ValueError",
     "evalue": "matrix must be 2-dimensional",
     "output_type": "error",
     "traceback": [
      "\u001b[0;31m---------------------------------------------------------------------------\u001b[0m",
      "\u001b[0;31mValueError\u001b[0m                                Traceback (most recent call last)",
      "\u001b[0;32m<ipython-input-11-66d561fcac64>\u001b[0m in \u001b[0;36m<module>\u001b[0;34m\u001b[0m\n\u001b[1;32m     23\u001b[0m                    [3,4]],\n\u001b[1;32m     24\u001b[0m                   [[5,6],\n\u001b[0;32m---> 25\u001b[0;31m                    [7,8]]])\n\u001b[0m\u001b[1;32m     26\u001b[0m \u001b[0mprint\u001b[0m\u001b[0;34m(\u001b[0m\u001b[0;34m\"mat2 is:\"\u001b[0m\u001b[0;34m)\u001b[0m\u001b[0;34m\u001b[0m\u001b[0;34m\u001b[0m\u001b[0m\n\u001b[1;32m     27\u001b[0m \u001b[0mprint\u001b[0m\u001b[0;34m(\u001b[0m\u001b[0mmat2\u001b[0m\u001b[0;34m)\u001b[0m\u001b[0;34m\u001b[0m\u001b[0;34m\u001b[0m\u001b[0m\n",
      "\u001b[0;32m~/anaconda3/lib/python3.7/site-packages/numpy/matrixlib/defmatrix.py\u001b[0m in \u001b[0;36m__new__\u001b[0;34m(subtype, data, dtype, copy)\u001b[0m\n\u001b[1;32m    149\u001b[0m         \u001b[0mshape\u001b[0m \u001b[0;34m=\u001b[0m \u001b[0marr\u001b[0m\u001b[0;34m.\u001b[0m\u001b[0mshape\u001b[0m\u001b[0;34m\u001b[0m\u001b[0;34m\u001b[0m\u001b[0m\n\u001b[1;32m    150\u001b[0m         \u001b[0;32mif\u001b[0m \u001b[0;34m(\u001b[0m\u001b[0mndim\u001b[0m \u001b[0;34m>\u001b[0m \u001b[0;36m2\u001b[0m\u001b[0;34m)\u001b[0m\u001b[0;34m:\u001b[0m\u001b[0;34m\u001b[0m\u001b[0;34m\u001b[0m\u001b[0m\n\u001b[0;32m--> 151\u001b[0;31m             \u001b[0;32mraise\u001b[0m \u001b[0mValueError\u001b[0m\u001b[0;34m(\u001b[0m\u001b[0;34m\"matrix must be 2-dimensional\"\u001b[0m\u001b[0;34m)\u001b[0m\u001b[0;34m\u001b[0m\u001b[0;34m\u001b[0m\u001b[0m\n\u001b[0m\u001b[1;32m    152\u001b[0m         \u001b[0;32melif\u001b[0m \u001b[0mndim\u001b[0m \u001b[0;34m==\u001b[0m \u001b[0;36m0\u001b[0m\u001b[0;34m:\u001b[0m\u001b[0;34m\u001b[0m\u001b[0;34m\u001b[0m\u001b[0m\n\u001b[1;32m    153\u001b[0m             \u001b[0mshape\u001b[0m \u001b[0;34m=\u001b[0m \u001b[0;34m(\u001b[0m\u001b[0;36m1\u001b[0m\u001b[0;34m,\u001b[0m \u001b[0;36m1\u001b[0m\u001b[0;34m)\u001b[0m\u001b[0;34m\u001b[0m\u001b[0;34m\u001b[0m\u001b[0m\n",
      "\u001b[0;31mValueError\u001b[0m: matrix must be 2-dimensional"
     ]
    }
   ],
   "source": [
    "## Example to demonstrate certain functionalities of the numpy library:\n",
    "\n",
    "import numpy as np\n",
    "\n",
    "arr0 = np.array([1,2])\n",
    "\n",
    "arr1 = np.array([[1,2],\n",
    "                 [3,4]])\n",
    "\n",
    "mat1 = np.matrix([[1,2],\n",
    "                  [3,4]])\n",
    "print(\"arr1 is:\")\n",
    "print(arr1)\n",
    "print(\"mat1 is:\")\n",
    "print(mat1)\n",
    "\n",
    "arr2 = np.array([[[1,2],\n",
    "                  [3,4]],\n",
    "                 [[5,6],\n",
    "                  [7,8]]])\n",
    "\n",
    "# mat2 = np.matrix([[[1,2],\n",
    "#                    [3,4]],\n",
    "#                   [[5,6],\n",
    "#                    [7,8]]])\n",
    "# print(\"mat2 is:\")\n",
    "# print(mat2)\n",
    "print(\"arr2 is:\")\n",
    "print(arr2)\n",
    "\n",
    "\n",
    "print(\"Shape of arr0 is: {}\".format(arr0.shape)) \n",
    "print(\"Size of arr0 is: {}\".format(arr0.size))\n",
    "\n",
    "print(\"Shape of arr1 is: {}\".format(arr1.shape))\n",
    "print(\"Size of arr1 is: {}\".format(arr1.size))\n",
    "print(\"Number of dimensions in arr1 is {}\".format(arr1.ndim))  ## number of dimensions(or rank) of the numpy array\n",
    "print(\"Datatype of arr1 is: {}\".format(type(arr1))) ## datatype of arr1\n",
    "\n",
    "print(\"\\n\")\n",
    "print(\"Shape of arr2 is: {}\".format(arr2.shape))\n",
    "\n"
   ]
  },
  {
   "cell_type": "code",
   "execution_count": 2,
   "metadata": {},
   "outputs": [
    {
     "name": "stdout",
     "output_type": "stream",
     "text": [
      "arr is:\n",
      "[[-1.   2.   0.   4.   6.   3. ]\n",
      " [ 4.  -0.5  6.   0.  -1.   8. ]\n",
      " [ 2.6  0.   7.   8.   2.  -9. ]\n",
      " [ 3.  -7.   4.   2.   8.   5. ]]\n",
      "Slice of arr containing rows (0,1,...,2) and columns (0,3,..) is:\n",
      "[[-1.   4. ]\n",
      " [ 4.   0. ]\n",
      " [ 2.6  8. ]]\n",
      "Slice of arr containing rows 0 and 3 and columns (0,2,..) is:\n",
      "[[-1.  0.  6.]\n",
      " [ 3.  4.  8.]]\n",
      "Slice of arr containing rows 0 and 3 and columns 1 and 4 is:\n",
      "[[ 2.  6.]\n",
      " [-7.  8.]]\n",
      "arr2 is:\n",
      "[[8 3 4 2 1]\n",
      " [5 6 3 0 9]]\n",
      "Element is 1th row and last column of arr2 is: 9\n",
      "Array containing elements satisfying this condition is: [8 6 9]\n"
     ]
    }
   ],
   "source": [
    "## Indexing in NumPy:\n",
    "\n",
    "arr = np.array([[-1, 2, 0, 4, 6, 3], \n",
    "                [4, -0.5, 6, 0, -1 , 8], \n",
    "                [2.6, 0, 7, 8, 2, -9], \n",
    "                [3, -7, 4, 2.0, 8, 5]])\n",
    "print(\"arr is:\")\n",
    "print(arr)\n",
    "\n",
    "print(\"Slice of arr containing rows (0,1,...,2) and columns (0,3,..) is:\")\n",
    "print(arr[:3,::3]) ## Double colon indicates interval for skipping columns(0,3,.. in this case)\n",
    "\n",
    "print(\"Slice of arr containing rows 0 and 3 and columns (0,2,..) is:\")\n",
    "print(arr[[0,3],::2])\n",
    "\n",
    "print(\"Slice of arr containing rows 0 and 3 and columns 1 and 4 is:\")\n",
    "print(arr[np.ix_([0,3],[1,4])])\n",
    "\n",
    "arr2 = np.array([[8,3,4,2,1],\n",
    "                 [5,6,3,0,9]])\n",
    "print(\"arr2 is:\")\n",
    "print(arr2)\n",
    "print(\"Element is 1th row and last column of arr2 is: {}\".format(arr2[1,-1])) ## Use -1 for the last row/column, -2 for second last row/column etc.  \n",
    "\n",
    "cond = arr2>5\n",
    "print(\"Array containing elements satisfying this condition is: {}\".format(arr2[cond]))"
   ]
  },
  {
   "cell_type": "code",
   "execution_count": 14,
   "metadata": {},
   "outputs": [
    {
     "name": "stdout",
     "output_type": "stream",
     "text": [
      "The identity matrix is:\n",
      "[[1. 0. 0.]\n",
      " [0. 1. 0.]\n",
      " [0. 0. 1.]]\n",
      "\n",
      "[[0 0 0 0 0]\n",
      " [0 0 0 0 0]\n",
      " [0 0 0 0 0]\n",
      " [0 0 0 0 0]\n",
      " [0 0 0 0 0]\n",
      " [0 0 0 0 0]]\n",
      "[ 0.   2.5  5.   7.5 10. ]\n",
      "[ 0  5 10]\n"
     ]
    }
   ],
   "source": [
    "## Different types of way to create arrays using NumPy\n",
    "\n",
    "k = 3\n",
    "\n",
    "a = np.eye(k,dtype = float) ## Creates an identity matrix of order k \n",
    "print(\"The identity matrix is:\")\n",
    "print(a)\n",
    "\n",
    "m = 6\n",
    "n = 5\n",
    "\n",
    "b = np.zeros((m,n),dtype = int) ## Creates an zero matrix of shape m*n\n",
    "print()\n",
    "print(b)\n",
    "\n",
    "c = np.linspace(0,10,5)  ## Generates 5 equally spaced numbers in the interval [0,10]\n",
    "print(c)\n",
    "\n",
    "d = np.arange(0,11,5) ## Generates numbers in the interval [0,10) with spacing of 5 between 2 consecutive numbers \n",
    "print(d)\n",
    "\n"
   ]
  },
  {
   "cell_type": "code",
   "execution_count": 15,
   "metadata": {},
   "outputs": [
    {
     "name": "stdout",
     "output_type": "stream",
     "text": [
      "x is:\n",
      "[[ 0.1  4.  -2.9]\n",
      " [-0.6 -4.   9. ]]\n",
      "2 3\n",
      "Reshaped version of x is:\n",
      "[[ 0.1  4.  -2.9 -0.6 -4.   9. ]]\n",
      "Shape of x2 is (1, 6)\n",
      "Rank of x2 is 2\n",
      "Flattened version of x2 is [ 0.1  4.  -2.9 -0.6 -4.   9. ]\n",
      "Shape of x3 is (6,)\n",
      "Rank of x3 is 1\n"
     ]
    }
   ],
   "source": [
    "## Reshaping of arrays:\n",
    "\n",
    "x = np.array([[0.1,4,-2.9],\n",
    "              [-0.6,-4,9]])\n",
    "\n",
    "print(\"x is:\")\n",
    "print(x)\n",
    "row,col = x.shape\n",
    "print(row,col)\n",
    "x2 = x.reshape(1,col*row) \n",
    "print(\"Reshaped version of x is:\")\n",
    "print(x2)\n",
    "print(\"Shape of x2 is {}\".format(x2.shape))\n",
    "print(\"Rank of x2 is {}\".format(x2.ndim))\n",
    "\n",
    "x3 = x2.flatten()\n",
    "print(\"Flattened version of x2 is {}\".format(x3))\n",
    "print(\"Shape of x3 is {}\".format(x3.shape))\n",
    "print(\"Rank of x3 is {}\".format(x3.ndim))"
   ]
  },
  {
   "cell_type": "code",
   "execution_count": 5,
   "metadata": {},
   "outputs": [
    {
     "name": "stdout",
     "output_type": "stream",
     "text": [
      "Original matrix x is:\n",
      "[[ 1  2  3  4]\n",
      " [-5 -1  6 10]\n",
      " [ 4 -9  8  5]]\n",
      "Transpose of matrix x is :\n",
      "[[ 1 -5  4]\n",
      " [ 2 -1 -9]\n",
      " [ 3  6  8]\n",
      " [ 4 10  5]]\n",
      "Sum of elements of x is 28\n",
      "Maximum across each column is given by the array [ 4  2  8 10]\n",
      "Maximum across each row is given by the array [ 4 10  8]\n",
      "Minimum across each column is given by the array [-5 -9  3  4]\n",
      "Minimum across each row is given by the array [ 1 -5 -9]\n",
      "Mean across each column is given by the array [ 0.         -2.66666667  5.66666667  6.33333333]\n",
      "Mean across each row is given by the array [2.5 2.5 2. ]\n"
     ]
    }
   ],
   "source": [
    "## Unary operations :\n",
    "\n",
    "x = np.array([[1,2,3,4],\n",
    "              [-5,-1,6,10],\n",
    "              [4,-9,8,5]])\n",
    "\n",
    "print(\"Original matrix x is:\")\n",
    "print(x)\n",
    "print(\"Transpose of matrix x is :\")\n",
    "print(x.T)\n",
    "print(\"Sum of elements of x is {}\".format(x.sum()))\n",
    "\n",
    "print(\"Maximum across each column is given by the array {}\".format(x.max(axis=0))) # Column wise operation\n",
    "print(\"Maximum across each row is given by the array {}\".format(x.max(axis=1)))  # Row wise operation\n",
    "\n",
    "print(\"Minimum across each column is given by the array {}\".format(x.min(axis=0)))\n",
    "print(\"Minimum across each row is given by the array {}\".format(x.min(axis=1)))\n",
    "\n",
    "print(\"Mean across each column is given by the array {}\".format(x.mean(axis=0)))\n",
    "print(\"Mean across each row is given by the array {}\".format(x.mean(axis=1)))"
   ]
  },
  {
   "cell_type": "code",
   "execution_count": 6,
   "metadata": {},
   "outputs": [
    {
     "name": "stdout",
     "output_type": "stream",
     "text": [
      "Element-wise product between a and b1 is\n",
      "[[  4 -10  18]\n",
      " [  3  -4  24]\n",
      " [  1   8  21]]\n",
      "Element-wise product between a and b2 is\n",
      "[[  4 -10  18]\n",
      " [  3  -4  24]\n",
      " [  1   8  21]]\n",
      "Sum of a and b1 is\n",
      "[[ 5 -3  9]\n",
      " [ 4  0 11]\n",
      " [ 2  6 10]]\n",
      "Sum of a and b2 is\n",
      "[[ 5 -3  9]\n",
      " [ 4  0 11]\n",
      " [ 2  6 10]]\n",
      "Matrix product between a and c is :\n",
      "[[37 -1 14]\n",
      " [54 29 28]\n",
      " [58 64 36]]\n"
     ]
    }
   ],
   "source": [
    "## Operations between two arrays and Broadcasting:\n",
    "\n",
    "a = np.array([[4,-5,6],\n",
    "              [3,-2,8],\n",
    "              [1,4,7]])\n",
    "\n",
    "b1 = np.array([[1,2,3]])\n",
    "\n",
    "b2 = np.array([[1,2,3],\n",
    "              [1,2,3],\n",
    "              [1,2,3]])\n",
    "\n",
    "c = np.array([[4,1,0],\n",
    "            [3,7,2],\n",
    "            [6,5,4]])\n",
    "\n",
    "print(\"Element-wise product between a and b1 is\")\n",
    "print(a*b1)\n",
    "print(\"Element-wise product between a and b2 is\")\n",
    "print(a*b2)\n",
    "\n",
    "print(\"Sum of a and b1 is\")\n",
    "print(a+b1)\n",
    "print(\"Sum of a and b2 is\")\n",
    "print(a+b2)\n",
    "\n",
    "print(\"Matrix product between a and c is :\")\n",
    "print(a.dot(c))\n"
   ]
  },
  {
   "cell_type": "code",
   "execution_count": 17,
   "metadata": {},
   "outputs": [
    {
     "data": {
      "image/png": "[encoded data removed]",
      "text/plain": [
       "<Figure size 432x288 with 1 Axes>"
      ]
     },
     "metadata": {
      "needs_background": "light"
     },
     "output_type": "display_data"
    }
   ],
   "source": [
    "## Universal functions applied to NumPy arrays:\n",
    "import matplotlib.pyplot as plt\n",
    "\n",
    "theta = np.linspace(-np.pi,np.pi,200)\n",
    "sine_theta = np.sin(theta)\n",
    "cosine_theta = np.cos(theta)\n",
    "\n",
    "\n",
    "fig = plt.figure()\n",
    "ax = fig.add_subplot(1, 1, 1)\n",
    "\n",
    "# Move left y-axis and bottim x-axis to centre, passing through (0,0)\n",
    "ax.spines['left'].set_position('center')\n",
    "ax.spines['bottom'].set_position('center')\n",
    "\n",
    "plt.plot(theta,sine_theta,color = \"red\")\n",
    "plt.plot(theta,cosine_theta,color = \"black\")\n",
    "plt.show()"
   ]
  },
  {
   "cell_type": "code",
   "execution_count": 8,
   "metadata": {},
   "outputs": [
    {
     "name": "stdout",
     "output_type": "stream",
     "text": [
      "Uniform distribution generates the following points: [[ 7.19028119e+00 -4.40211480e+00 -7.22248551e+00  4.80054003e+00\n",
      "   8.43598307e+00 -3.06972118e+00  9.27806094e-01  6.49070580e+00\n",
      "   4.97891809e+00  6.15895317e+00]\n",
      " [ 1.28231599e+00 -9.33456250e+00 -7.58591793e+00  6.21206600e+00\n",
      "   5.61753739e+00 -2.82062783e+00 -6.32780894e+00  2.51786217e+00\n",
      "  -1.14063644e-01  1.01342064e+00]\n",
      " [ 5.14583130e-01  7.18234679e-01 -9.97369307e+00  3.73331171e+00\n",
      "  -8.42858173e+00 -5.34391072e+00 -5.16807911e+00  9.67531271e+00\n",
      "   6.86526455e+00  5.13985489e+00]\n",
      " [ 8.43132617e+00  9.77655969e-01 -8.50558455e+00  2.33490024e+00\n",
      "  -4.26163298e-01 -3.44240524e+00 -2.66000901e+00 -8.76934391e+00\n",
      "   7.01971371e+00  8.75239228e+00]\n",
      " [ 4.12931776e+00 -9.88498668e+00 -9.26520585e+00  1.25563365e+00\n",
      "   3.07066653e+00  7.65555456e-01 -3.18363438e+00 -9.91519247e+00\n",
      "  -1.07796134e+00  6.20733717e+00]\n",
      " [ 6.51556187e-01  7.67995600e+00  3.73925613e-01 -4.40952770e+00\n",
      "  -5.96858859e+00 -1.56017610e+00  7.43842782e-03 -5.51332956e+00\n",
      "  -2.67346208e+00  2.96387097e+00]\n",
      " [ 5.82840365e+00 -5.39569085e+00 -6.62870333e+00  6.47886641e+00\n",
      "   9.03986852e+00 -8.31360646e+00 -2.69306186e-01  5.47020675e-01\n",
      "  -8.55082507e+00  6.89855235e-02]\n",
      " [ 9.70556043e+00 -5.68310531e+00  7.11258882e+00 -4.50071552e+00\n",
      "   6.68486141e+00 -4.99395666e+00 -2.98346152e+00 -2.44461572e+00\n",
      "  -7.91610310e+00 -1.59125253e+00]\n",
      " [ 3.85590559e+00 -3.07946760e-01  8.09591505e+00  7.16778964e+00\n",
      "  -9.42780793e+00 -2.90786030e+00  5.37098926e+00  5.91794971e+00\n",
      "  -5.28192362e+00  8.01132822e+00]\n",
      " [-4.13366477e+00  4.36472105e+00 -4.56009341e+00  4.37533630e+00\n",
      "   1.97851163e+00 -1.98176764e-01  6.24735516e+00  4.48354695e+00\n",
      "   7.11652529e+00 -8.44457351e+00]]\n"
     ]
    },
    {
     "data": {
      "image/png": "[encoded data removed]",
      "text/plain": [
       "<Figure size 432x288 with 1 Axes>"
      ]
     },
     "metadata": {
      "needs_background": "light"
     },
     "output_type": "display_data"
    },
    {
     "data": {
      "image/png": "[encoded data removed]",
      "text/plain": [
       "<Figure size 432x288 with 1 Axes>"
      ]
     },
     "metadata": {
      "needs_background": "light"
     },
     "output_type": "display_data"
    }
   ],
   "source": [
    "## Random arrays in NumPy:\n",
    "\n",
    "start = -10\n",
    "stop = 10\n",
    "prob = stop-start\n",
    "\n",
    "num = (10,10)\n",
    "x = np.random.uniform(start,stop,num)\n",
    "print(\"Uniform distribution generates the following points: {}\".format(x))\n",
    "x_flat = x.flatten()\n",
    "count, bins, ignored = plt.hist(x_flat, 15, density=True)\n",
    "plt.plot(bins, np.ones_like(bins)/prob, linewidth=2, color='r')\n",
    "plt.show()\n",
    "\n",
    "\n",
    "mean = 4\n",
    "sig = 2\n",
    "y = mean + sig*np.random.randn(100,10)\n",
    "\n",
    "y_flat = y.flatten()\n",
    "count, bins, ignored = plt.hist(y_flat, 15, density=True)\n",
    "plt.plot(bins, 1/(sig * np.sqrt(2 * np.pi)) *\n",
    "                np.exp( - (bins - mean)**2 / (2 * sig**2) ),\n",
    "          linewidth=2, color='r')\n",
    "plt.show()\n",
    "\n",
    "#print(\"Normal distribution generates the following points: {}\".format(y))"
   ]
  },
  {
   "cell_type": "code",
   "execution_count": 9,
   "metadata": {},
   "outputs": [
    {
     "name": "stdout",
     "output_type": "stream",
     "text": [
      "My roll number is 23\n",
      "Next roll number is 24\n",
      "hsuytarP\n"
     ]
    }
   ],
   "source": [
    "##Brief idea about Object-Oriented Programming\n",
    "\n",
    "class Student:\n",
    "    def __init__(self,Name,Roll,Section):\n",
    "        self.Name = Name\n",
    "        self.Roll = Roll\n",
    "        self.Section = Section\n",
    "    def printRoll(self):\n",
    "        print(\"My roll number is {}\".format(self.Roll))\n",
    "    def nextRoll(self):\n",
    "        print(\"Next roll number is {}\".format(self.Roll+1))\n",
    "    def revName(self):\n",
    "        x = self.Name\n",
    "        print(x[::-1])\n",
    "st1 = Student(\"Pratyush\",23,\"A\")\n",
    "st1.printRoll()\n",
    "st1.nextRoll()\n",
    "st1.revName()"
   ]
  },
  {
   "cell_type": "code",
   "execution_count": 19,
   "metadata": {},
   "outputs": [],
   "source": [
    "start = -10\n",
    "stop = 10\n",
    "prob = stop-start\n",
    "\n",
    "num = (10,10)\n",
    "x = np.random.uniform(start,stop,num)\n",
    "np.savetxt(\"test.csv\",x,delimiter=\",\")"
   ]
  }
 ],
 "metadata": {
  "kernelspec": {
   "display_name": "Python 3",
   "language": "python",
   "name": "python3"
  },
  "language_info": {
   "codemirror_mode": {
    "name": "ipython",
    "version": 3
   },
   "file_extension": ".py",
   "mimetype": "text/x-python",
   "name": "python",
   "nbconvert_exporter": "python",
   "pygments_lexer": "ipython3",
   "version": "3.7.4"
  }
 },
 "nbformat": 4,
 "nbformat_minor": 2
}
