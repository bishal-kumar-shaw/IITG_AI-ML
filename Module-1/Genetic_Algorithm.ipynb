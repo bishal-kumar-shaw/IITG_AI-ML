{
 "cells": [
  {
   "cell_type": "code",
   "execution_count": 1,
   "metadata": {},
   "outputs": [
    {
     "name": "stdout",
     "output_type": "stream",
     "text": [
      "Using matplotlib backend: MacOSX\n"
     ]
    }
   ],
   "source": [
    "%matplotlib"
   ]
  },
  {
   "cell_type": "code",
   "execution_count": 2,
   "metadata": {},
   "outputs": [],
   "source": [
    "import numpy as np\n",
    "import matplotlib.pyplot as plt"
   ]
  },
  {
   "cell_type": "code",
   "execution_count": 3,
   "metadata": {},
   "outputs": [],
   "source": [
    "# Objective function for optimization\n",
    "def obj_function(x,y):\n",
    "    z = -20* np.exp(-0.2* np.sqrt(0.5* (x**2 + y**2))) - np.exp(0.5* (np.cos(2* np.pi* x) + (np.cos(2* np.pi* y)))) + np.exp(1) + 20\n",
    "    return z"
   ]
  },
  {
   "cell_type": "code",
   "execution_count": 4,
   "metadata": {},
   "outputs": [],
   "source": [
    "# Objective function for optimization\n",
    "def obj_function_init(popsize,bounds):\n",
    "    blo = bounds[0]\n",
    "    bup = bounds[1]\n",
    "    x = np.zeros((2,popsize)) #Population placeholder\n",
    "    z = np.zeros((popsize)) #Fitness placeholder\n",
    "    \n",
    "    #initialization\n",
    "    for i in range(popsize):\n",
    "        x[0,i] = (bup - blo)*np.random.random(1) + blo       \n",
    "        x[1,i] = (bup - blo)*np.random.random(1) + blo\n",
    "        z[i] = obj_function(x[0,i],x[1,i])\n",
    "    return x,z"
   ]
  },
  {
   "cell_type": "code",
   "execution_count": 5,
   "metadata": {},
   "outputs": [],
   "source": [
    "# Selecting top population for mating\n",
    "def select_mating_pool(x,fitness,num_parents):\n",
    "    sort_index = np.argsort(fitness)\n",
    "    x_sorted = x[:,sort_index]\n",
    "    fitness_sorted = fitness[sort_index]\n",
    "    return x_sorted[:,:num_parents]"
   ]
  },
  {
   "cell_type": "code",
   "execution_count": 6,
   "metadata": {},
   "outputs": [],
   "source": [
    "# Genes crossover of parents \n",
    "def crossover(x_parent,offspring_size):\n",
    "    x_child = np.zeros((2,offspring_size))\n",
    "    for k in range(offspring_size):\n",
    "        parent_idx = np.random.choice(x_parent.shape[1],2,replace=False)\n",
    "        x_child[0,k] = x_parent[0,parent_idx[0]]\n",
    "        x_child[1,k] = x_parent[1,parent_idx[1]]\n",
    "    return x_child"
   ]
  },
  {
   "cell_type": "code",
   "execution_count": 7,
   "metadata": {},
   "outputs": [],
   "source": [
    "# Gene Mutation of offsprings after crossover\n",
    "def mutation(offspring_crossover):\n",
    "    # Mutation changes a number of genes as defined by the num_mutations argument. The changes are random.\n",
    "    for idx in range(offspring_crossover.shape[1]):\n",
    "        mutation_index = np.random.choice([0,1])\n",
    "        # The random value to be added to the gene.\n",
    "        random_value = np.random.uniform(-1.0, 1.0, 1)\n",
    "        offspring_crossover[mutation_index,idx] = offspring_crossover[mutation_index, idx] + random_value\n",
    "    return offspring_crossover"
   ]
  },
  {
   "cell_type": "code",
   "execution_count": 8,
   "metadata": {},
   "outputs": [],
   "source": [
    "def Genetic_Algorithm(popsize,bounds,num_parents,offspring_size,max_generations):\n",
    "    population, fitness = obj_function_init(popsize,bounds)\n",
    "    for generation in range(max_generations):\n",
    "        top_pop = select_mating_pool(population,fitness,num_parents)\n",
    "        offspring_crossover = crossover(top_pop,offspring_size)\n",
    "        offspring_mutation = mutation(offspring_crossover)\n",
    "        new_population = np.hstack((population,offspring_mutation))\n",
    "        new_fitness = np.zeros((new_population.shape[1]))\n",
    "        for i in range(new_population.shape[1]):\n",
    "            new_fitness[i] = obj_function(new_population[0,i],new_population[1,i])\n",
    "        sorted_index = np.argsort(new_fitness)\n",
    "        new_population_sorted = new_population[:,sorted_index]\n",
    "        new_fitness_sorted = new_fitness[sorted_index]\n",
    "        population = new_population_sorted[:,:popsize]\n",
    "        fitness = new_fitness_sorted[:popsize]\n",
    "        print(fitness[0])\n",
    "    return(population)"
   ]
  },
  {
   "cell_type": "code",
   "execution_count": 9,
   "metadata": {},
   "outputs": [
    {
     "name": "stdout",
     "output_type": "stream",
     "text": [
      "1.14067426514978\n",
      "1.14067426514978\n",
      "1.14067426514978\n",
      "1.14067426514978\n",
      "1.14067426514978\n",
      "0.619553080114013\n",
      "0.5963343334811846\n",
      "0.5963343334811846\n",
      "0.5963343334811846\n",
      "0.5963343334811846\n",
      "0.5963343334811846\n",
      "0.04283614634475086\n",
      "0.04283614634475086\n",
      "0.04283614634475086\n",
      "0.04283614634475086\n",
      "0.04283614634475086\n",
      "0.04283614634475086\n",
      "0.04283614634475086\n",
      "0.04283614634475086\n",
      "0.04283614634475086\n",
      "0.04283614634475086\n",
      "0.04283614634475086\n",
      "0.04283614634475086\n",
      "0.04283614634475086\n",
      "0.04283614634475086\n",
      "0.04283614634475086\n",
      "0.04283614634475086\n",
      "0.04283614634475086\n",
      "0.04283614634475086\n",
      "0.04283614634475086\n",
      "0.04283614634475086\n",
      "0.04283614634475086\n",
      "0.04283614634475086\n",
      "0.04283614634475086\n",
      "0.04283614634475086\n",
      "0.04283614634475086\n",
      "0.04283614634475086\n",
      "0.04283614634475086\n",
      "0.04283614634475086\n",
      "0.04283614634475086\n",
      "0.04283614634475086\n",
      "0.04283614634475086\n",
      "0.04283614634475086\n",
      "0.04283614634475086\n",
      "0.04283614634475086\n",
      "0.04283614634475086\n",
      "0.04283614634475086\n",
      "0.04283614634475086\n",
      "0.04283614634475086\n",
      "0.04283614634475086\n",
      "0.010646028415031594\n",
      "0.010646028415031594\n",
      "0.010646028415031594\n",
      "0.010646028415031594\n",
      "0.010646028415031594\n",
      "0.010646028415031594\n",
      "0.010646028415031594\n",
      "0.010646028415031594\n",
      "0.010646028415031594\n",
      "0.010646028415031594\n",
      "0.010646028415031594\n",
      "0.010646028415031594\n",
      "0.010646028415031594\n",
      "0.010646028415031594\n",
      "0.010646028415031594\n",
      "0.010646028415031594\n",
      "0.010646028415031594\n",
      "0.010646028415031594\n",
      "0.010646028415031594\n",
      "0.010646028415031594\n",
      "0.010646028415031594\n",
      "0.010646028415031594\n",
      "0.010646028415031594\n",
      "0.010646028415031594\n",
      "0.010646028415031594\n",
      "0.010646028415031594\n",
      "0.010646028415031594\n",
      "0.010646028415031594\n",
      "0.010646028415031594\n",
      "0.010646028415031594\n",
      "0.010646028415031594\n",
      "0.010646028415031594\n",
      "0.010646028415031594\n",
      "0.010646028415031594\n",
      "0.010646028415031594\n",
      "0.010646028415031594\n",
      "0.010646028415031594\n",
      "0.010646028415031594\n",
      "0.010646028415031594\n",
      "0.010646028415031594\n",
      "0.010646028415031594\n",
      "0.010646028415031594\n",
      "0.010646028415031594\n",
      "0.010646028415031594\n",
      "0.010646028415031594\n",
      "0.010646028415031594\n",
      "0.010646028415031594\n",
      "0.010646028415031594\n",
      "0.010646028415031594\n",
      "0.010646028415031594\n"
     ]
    }
   ],
   "source": [
    "pop = Genetic_Algorithm(100,[-10,10],10,10,100)"
   ]
  },
  {
   "cell_type": "code",
   "execution_count": 10,
   "metadata": {},
   "outputs": [
    {
     "name": "stdout",
     "output_type": "stream",
     "text": [
      "[0.00250729 0.00263775]\n"
     ]
    }
   ],
   "source": [
    "# Global Optima\n",
    "print(pop[:,0])"
   ]
  },
  {
   "cell_type": "code",
   "execution_count": null,
   "metadata": {},
   "outputs": [],
   "source": []
  }
 ],
 "metadata": {
  "kernelspec": {
   "display_name": "Python 3",
   "language": "python",
   "name": "python3"
  },
  "language_info": {
   "codemirror_mode": {
    "name": "ipython",
    "version": 3
   },
   "file_extension": ".py",
   "mimetype": "text/x-python",
   "name": "python",
   "nbconvert_exporter": "python",
   "pygments_lexer": "ipython3",
   "version": "3.8.3"
  }
 },
 "nbformat": 4,
 "nbformat_minor": 4
}
