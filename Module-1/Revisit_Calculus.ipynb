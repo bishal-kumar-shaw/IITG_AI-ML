{
 "cells": [
  {
   "cell_type": "markdown",
   "metadata": {},
   "source": [
    "## First Order Differential Equation"
   ]
  },
  {
   "cell_type": "code",
   "execution_count": 28,
   "metadata": {},
   "outputs": [
    {
     "name": "stdout",
     "output_type": "stream",
     "text": [
      "Forward difference = 9.100200000000047\n",
      "Backward difference = 8.90019999999998\n",
      "Central difference = 9.000200000000014\n",
      "Exact value = 9\n"
     ]
    }
   ],
   "source": [
    "def forwardDifference(f, x, h):\n",
    "    return (f(x+h) - f(x))/h\n",
    "\n",
    "def backwardDifference(f, x, h):\n",
    "    return (f(x) - f(x-h))/h\n",
    "\n",
    "def centralDifference(f, x, h):\n",
    "    return (f(x+h) - f(x-h))/(2*h)\n",
    "\n",
    "def myFunc(x):\n",
    "    return 2*x**3 + 4*x**2 - 5*x\n",
    "\n",
    "x = 1\n",
    "h = 0.01\n",
    "\n",
    "dydt_f = forwardDifference(myFunc, x, h)\n",
    "dydt_b = backwardDifference(myFunc, x, h)\n",
    "dydt_c = centralDifference(myFunc, x, h)\n",
    "\n",
    "exact = 6*x**2 + 8*x - 5\n",
    "\n",
    "print(\"Forward difference =\", dydt_f)\n",
    "print(\"Backward difference =\", dydt_b)\n",
    "print(\"Central difference =\", dydt_c)\n",
    "print(\"Exact value =\", exact)"
   ]
  },
  {
   "cell_type": "markdown",
   "metadata": {},
   "source": [
    "## Second Order Differential Equation "
   ]
  },
  {
   "cell_type": "code",
   "execution_count": 29,
   "metadata": {},
   "outputs": [
    {
     "name": "stdout",
     "output_type": "stream",
     "text": [
      "Forward difference = 21.199999999999882\n",
      "Backward difference = 18.79999999999997\n",
      "Central difference = 20.000000000000192\n",
      "Exact value = 20\n"
     ]
    }
   ],
   "source": [
    "def forwardDifference(f, x, h):\n",
    "    return (f(x+h+h) - 2*f(x+h) + f(x))/h**2\n",
    "\n",
    "def backwardDifference(f, x, h):\n",
    "    return (f(x) - 2*f(x-h) + f(x-h-h))/h**2\n",
    "\n",
    "def centralDifference(f, x, h):\n",
    "    return (f(x+h) - 2*f(x) + f(x-h))/h**2\n",
    "\n",
    "def myFunc(x):\n",
    "    return 2*x**3 + 4*x**2 - 5*x\n",
    "\n",
    "x = 1\n",
    "h = 0.1\n",
    "\n",
    "dydt_f = forwardDifference(myFunc, x, h)\n",
    "dydt_b = backwardDifference(myFunc, x, h)\n",
    "dydt_c = centralDifference(myFunc, x, h)\n",
    "exact = 12*x + 8\n",
    "\n",
    "print(\"Forward difference =\", dydt_f)\n",
    "print(\"Backward difference =\", dydt_b)\n",
    "print(\"Central difference =\", dydt_c)\n",
    "print(\"Exact value =\", exact)\n"
   ]
  },
  {
   "cell_type": "markdown",
   "metadata": {},
   "source": [
    "## Numerical Integration using Trapezoidal Rule"
   ]
  },
  {
   "cell_type": "code",
   "execution_count": 31,
   "metadata": {},
   "outputs": [
    {
     "data": {
      "image/png": "[encoded data removed]",
      "text/plain": [
       "<Figure size 432x288 with 1 Axes>"
      ]
     },
     "metadata": {
      "needs_background": "light"
     },
     "output_type": "display_data"
    }
   ],
   "source": [
    "import numpy as np\n",
    "import matplotlib.pyplot as plt\n",
    "%matplotlib inline\n",
    "\n",
    "\n",
    "x = np.linspace(-0.5,1.5,100)\n",
    "y = np.exp(-x**2)   # function\n",
    "plt.plot(x,y)\n",
    "\n",
    "x0 = 0; x1 = 1;\n",
    "y0 = np.exp(-x0**2); y1 = np.exp(-x1**2);\n",
    "plt.fill_between([x0,x1],[y0,y1])\n",
    "\n",
    "plt.xlim([-0.5,1.5]); plt.ylim([0,1.5]);\n",
    "plt.show()"
   ]
  },
  {
   "cell_type": "code",
   "execution_count": 32,
   "metadata": {},
   "outputs": [
    {
     "name": "stdout",
     "output_type": "stream",
     "text": [
      "Trapezoid area: 0.6839397205857212\n"
     ]
    }
   ],
   "source": [
    "A = 0.5*(y1 + y0)*(x1 - x0)\n",
    "print(\"Trapezoid area:\", A)"
   ]
  },
  {
   "cell_type": "code",
   "execution_count": 33,
   "metadata": {},
   "outputs": [],
   "source": [
    "def trapz(f,a,b,N=50):\n",
    "    '''Approximate the integral of f(x) from a to b by the trapezoid rule.\n",
    "\n",
    "    The trapezoid rule approximates the integral \\int_a^b f(x) dx by the sum:\n",
    "    (dx/2) \\sum_{k=1}^N (f(x_k) + f(x_{k-1}))\n",
    "    where x_k = a + k*dx and dx = (b - a)/N.\n",
    "\n",
    "    Parameters\n",
    "    ----------\n",
    "    f : function\n",
    "        Vectorized function of a single variable\n",
    "    a , b : numbers\n",
    "        Interval of integration [a,b]\n",
    "    N : integer\n",
    "        Number of subintervals of [a,b]\n",
    "\n",
    "    Returns\n",
    "    -------\n",
    "    float\n",
    "        Approximation of the integral of f(x) from a to b using the\n",
    "        trapezoid rule with N subintervals of equal length.\n",
    "\n",
    "    Examples\n",
    "    --------\n",
    "    >>> trapz(np.sin,0,np.pi/2,1000)\n",
    "    0.9999997943832332\n",
    "    '''\n",
    "    x = np.linspace(a,b,N+1) # N+1 points make N subintervals\n",
    "    y = f(x)\n",
    "    y_right = y[1:] # right endpoints\n",
    "    y_left = y[:-1] # left endpoints\n",
    "    dx = (b - a)/N\n",
    "    T = (dx/2) * np.sum(y_right + y_left)\n",
    "    return T"
   ]
  },
  {
   "cell_type": "markdown",
   "metadata": {},
   "source": [
    "Let's test our function:\n",
    "\n",
    "$$\\int_0^{\\pi/2} \\sin x \\ dx = 1$$"
   ]
  },
  {
   "cell_type": "code",
   "execution_count": 35,
   "metadata": {},
   "outputs": [
    {
     "data": {
      "text/plain": [
       "0.9999997943832332"
      ]
     },
     "execution_count": 35,
     "metadata": {},
     "output_type": "execute_result"
    }
   ],
   "source": [
    "trapz(np.sin,0,np.pi/2,1000)"
   ]
  },
  {
   "cell_type": "markdown",
   "metadata": {},
   "source": [
    "Let's test our function again:\n",
    "\n",
    "$$\\int_0^1 3 x^2 \\ dx = 1$$"
   ]
  },
  {
   "cell_type": "code",
   "execution_count": 36,
   "metadata": {},
   "outputs": [
    {
     "data": {
      "text/plain": [
       "1.0000005"
      ]
     },
     "execution_count": 36,
     "metadata": {},
     "output_type": "execute_result"
    }
   ],
   "source": [
    "trapz(lambda x : 3*x**2,0,1,1000)"
   ]
  },
  {
   "cell_type": "markdown",
   "metadata": {},
   "source": [
    "For function:\n",
    "\n",
    "$$\\int_0^5 \\frac{1}{1 + x^2} dx = \\arctan(5)$$"
   ]
  },
  {
   "cell_type": "code",
   "execution_count": 37,
   "metadata": {},
   "outputs": [
    {
     "data": {
      "image/png": "[encoded data removed]",
      "text/plain": [
       "<Figure size 432x288 with 1 Axes>"
      ]
     },
     "metadata": {
      "needs_background": "light"
     },
     "output_type": "display_data"
    }
   ],
   "source": [
    "f = lambda x : 1/(1 + x**2)\n",
    "a = 0; b = 5; N = 10\n",
    "\n",
    "# x and y values for the trapezoid rule\n",
    "x = np.linspace(a,b,N+1)\n",
    "y = f(x)\n",
    "\n",
    "# X and Y values for plotting y=f(x)\n",
    "X = np.linspace(a,b,100)\n",
    "Y = f(X)\n",
    "plt.plot(X,Y)\n",
    "\n",
    "for i in range(N):\n",
    "    xs = [x[i],x[i],x[i+1],x[i+1]]\n",
    "    ys = [0,f(x[i]),f(x[i+1]),0]\n",
    "    plt.fill(xs,ys,'b',edgecolor='b',alpha=0.2)\n",
    "\n",
    "plt.title('Trapezoid Rule, N = {}'.format(N))\n",
    "plt.show()"
   ]
  },
  {
   "cell_type": "code",
   "execution_count": 41,
   "metadata": {},
   "outputs": [
    {
     "name": "stdout",
     "output_type": "stream",
     "text": [
      "1.3733514712721437\n"
     ]
    }
   ],
   "source": [
    "## Trapezoidal Value\n",
    "T = trapz(f,a,b,N=25)\n",
    "print(T)"
   ]
  },
  {
   "cell_type": "code",
   "execution_count": 42,
   "metadata": {},
   "outputs": [
    {
     "name": "stdout",
     "output_type": "stream",
     "text": [
      "1.373400766945016\n"
     ]
    }
   ],
   "source": [
    "## Actual Value\n",
    "I = np.arctan(5)\n",
    "print(I)"
   ]
  },
  {
   "cell_type": "code",
   "execution_count": 43,
   "metadata": {},
   "outputs": [
    {
     "name": "stdout",
     "output_type": "stream",
     "text": [
      "Trapezoid Rule Error: 4.929567287215164e-05\n"
     ]
    }
   ],
   "source": [
    "print(\"Trapezoid Rule Error:\",np.abs(I - T))"
   ]
  },
  {
   "cell_type": "markdown",
   "metadata": {},
   "source": [
    "## Definite Integration using scipy library"
   ]
  },
  {
   "cell_type": "code",
   "execution_count": 45,
   "metadata": {},
   "outputs": [
    {
     "name": "stdout",
     "output_type": "stream",
     "text": [
      "The numerical result is 17.864264 (+-1.55117e-11)\n"
     ]
    }
   ],
   "source": [
    "from math import cos, exp, pi\n",
    "from scipy.integrate import quad\n",
    "\n",
    "# function we want to integrate\n",
    "def f(x):\n",
    "    return exp(cos(-2 * x * pi)) + 3.2\n",
    "\n",
    "\n",
    "res, err = quad(f, -2, 2)\n",
    "\n",
    "print(\"The numerical result is {:f} (+-{:g})\".format(res, err))"
   ]
  },
  {
   "cell_type": "code",
   "execution_count": 53,
   "metadata": {},
   "outputs": [
    {
     "data": {
      "text/plain": [
       "1.7763568394002505e-15"
      ]
     },
     "execution_count": 53,
     "metadata": {},
     "output_type": "execute_result"
    }
   ],
   "source": [
    "from scipy.integrate import trapz\n",
    "\n",
    "f = lambda x : -2 * x * pi \n",
    "x = np.linspace(-2,2,10)\n",
    "y = f(x)\n",
    "trapz(x,y)"
   ]
  },
  {
   "cell_type": "code",
   "execution_count": null,
   "metadata": {},
   "outputs": [],
   "source": []
  }
 ],
 "metadata": {
  "kernelspec": {
   "display_name": "Python 3",
   "language": "python",
   "name": "python3"
  },
  "language_info": {
   "codemirror_mode": {
    "name": "ipython",
    "version": 3
   },
   "file_extension": ".py",
   "mimetype": "text/x-python",
   "name": "python",
   "nbconvert_exporter": "python",
   "pygments_lexer": "ipython3",
   "version": "3.7.7"
  }
 },
 "nbformat": 4,
 "nbformat_minor": 4
}
