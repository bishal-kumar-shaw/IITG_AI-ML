{
 "cells": [
  {
   "cell_type": "markdown",
   "metadata": {},
   "source": [
    "#  Introduction to NumPy"
   ]
  },
  {
   "cell_type": "markdown",
   "metadata": {},
   "source": [
    "## Features of the NumPy library\n",
    "- NumPy deals with two datatypes: numpy.array and numpy.matrix. numpy.array can be used to define any general n-dimensional array, whereas numpy.matrix is a 2d-array.\n",
    "- Arrays in NumPy: NumPy’s main object is the homogeneous multidimensional array.\n",
    "- In NumPy dimensions are called **axes**. The number of axes is **rank**.\n",
    "- NumPy’s array class is called **ndarray**. It is also known by the alias **array**."
   ]
  },
  {
   "cell_type": "code",
   "execution_count": 2,
   "metadata": {},
   "outputs": [
    {
     "name": "stdout",
     "output_type": "stream",
     "text": [
      "arr1 is:\n",
      "[[1 2]\n",
      " [3 4]]\n",
      "mat1 is:\n",
      "[[1 2]\n",
      " [3 4]]\n",
      "arr2 is:\n",
      "[[[1 2]\n",
      "  [3 4]]\n",
      "\n",
      " [[5 6]\n",
      "  [7 8]]]\n",
      "Shape of arr0 is: (2,)\n",
      "Size of arr0 is: 2\n",
      "Shape of arr1 is: (2, 2)\n",
      "Size of arr1 is: 4\n",
      "Number of dimensions in arr1 is 2\n",
      "Datatype of arr1 is: <class 'numpy.ndarray'>\n",
      "\n",
      "\n",
      "Shape of arr2 is: (2, 2, 2)\n"
     ]
    }
   ],
   "source": [
    "## Example to demonstrate certain functionalities of the numpy library:\n",
    "\n",
    "import numpy as np\n",
    "\n",
    "arr0 = np.array([1,2])\n",
    "\n",
    "arr1 = np.array([[1,2],\n",
    "                 [3,4]])\n",
    "\n",
    "mat1 = np.matrix([[1,2],\n",
    "                  [3,4]])\n",
    "print(\"arr1 is:\")\n",
    "print(arr1)\n",
    "print(\"mat1 is:\")\n",
    "print(mat1)\n",
    "\n",
    "arr2 = np.array([[[1,2],\n",
    "                  [3,4]],\n",
    "                 [[5,6],\n",
    "                  [7,8]]])\n",
    "\n",
    "print(\"arr2 is:\")\n",
    "print(arr2)\n",
    "\n",
    "\n",
    "print(\"Shape of arr0 is: {}\".format(arr0.shape)) \n",
    "print(\"Size of arr0 is: {}\".format(arr0.size))\n",
    "\n",
    "print(\"Shape of arr1 is: {}\".format(arr1.shape))\n",
    "print(\"Size of arr1 is: {}\".format(arr1.size))\n",
    "print(\"Number of dimensions in arr1 is {}\".format(arr1.ndim))  ## number of dimensions(or rank) of the numpy array\n",
    "print(\"Datatype of arr1 is: {}\".format(type(arr1))) ## datatype of arr1\n",
    "\n",
    "print(\"\\n\")\n",
    "print(\"Shape of arr2 is: {}\".format(arr2.shape))\n",
    "\n"
   ]
  },
  {
   "cell_type": "code",
   "execution_count": 3,
   "metadata": {},
   "outputs": [
    {
     "name": "stdout",
     "output_type": "stream",
     "text": [
      "arr is:\n",
      "[[-1.   2.   0.   4.   6.   3. ]\n",
      " [ 4.  -0.5  6.   0.  -1.   8. ]\n",
      " [ 2.6  0.   7.   8.   2.  -9. ]\n",
      " [ 3.  -7.   4.   2.   8.   5. ]]\n",
      "Slice of arr containing rows (0,1,...,2) and columns (0,3,..) is:\n",
      "[[-1.   4. ]\n",
      " [ 4.   0. ]\n",
      " [ 2.6  8. ]]\n",
      "Slice of arr containing rows 0 and 3 and columns (0,2,..) is:\n",
      "[[-1.  0.  6.]\n",
      " [ 3.  4.  8.]]\n",
      "Slice of arr containing rows 0 and 3 and columns 1 and 4 is:\n",
      "[[ 2.  6.]\n",
      " [-7.  8.]]\n",
      "arr2 is:\n",
      "[[8 3 4 2 1]\n",
      " [5 6 3 0 9]]\n",
      "Element is 1th row and last column of arr2 is: 9\n",
      "Array containing elements satisfying this condition is: [8 6 9]\n"
     ]
    }
   ],
   "source": [
    "## Indexing in NumPy:\n",
    "\n",
    "arr = np.array([[-1, 2, 0, 4, 6, 3], \n",
    "                [4, -0.5, 6, 0, -1 , 8], \n",
    "                [2.6, 0, 7, 8, 2, -9], \n",
    "                [3, -7, 4, 2.0, 8, 5]])\n",
    "print(\"arr is:\")\n",
    "print(arr)\n",
    "\n",
    "print(\"Slice of arr containing rows (0,1,...,2) and columns (0,3,..) is:\")\n",
    "print(arr[:3,::3]) ## Double colon indicates interval for skipping columns(0,3,.. in this case)\n",
    "\n",
    "print(\"Slice of arr containing rows 0 and 3 and columns (0,2,..) is:\")\n",
    "print(arr[[0,3],::2])\n",
    "\n",
    "print(\"Slice of arr containing rows 0 and 3 and columns 1 and 4 is:\")\n",
    "print(arr[np.ix_([0,3],[1,4])])\n",
    "\n",
    "arr2 = np.array([[8,3,4,2,1],\n",
    "                 [5,6,3,0,9]])\n",
    "print(\"arr2 is:\")\n",
    "print(arr2)\n",
    "print(\"Element is 1th row and last column of arr2 is: {}\".format(arr2[1,-1])) ## Use -1 for the last row/column, -2 for second last row/column etc.  \n",
    "\n",
    "cond = arr2>5\n",
    "print(\"Array containing elements satisfying this condition is: {}\".format(arr2[cond]))"
   ]
  },
  {
   "cell_type": "code",
   "execution_count": 4,
   "metadata": {},
   "outputs": [
    {
     "name": "stdout",
     "output_type": "stream",
     "text": [
      "The identity matrix is:\n",
      "[[1. 0. 0.]\n",
      " [0. 1. 0.]\n",
      " [0. 0. 1.]]\n",
      "\n",
      "[[0 0 0 0 0]\n",
      " [0 0 0 0 0]\n",
      " [0 0 0 0 0]\n",
      " [0 0 0 0 0]\n",
      " [0 0 0 0 0]\n",
      " [0 0 0 0 0]]\n",
      "[ 0.   2.5  5.   7.5 10. ]\n",
      "[ 0  5 10]\n"
     ]
    }
   ],
   "source": [
    "## Different types of way to create arrays using NumPy\n",
    "\n",
    "k = 3\n",
    "\n",
    "a = np.eye(k,dtype = float) ## Creates an identity matrix of order k \n",
    "print(\"The identity matrix is:\")\n",
    "print(a)\n",
    "\n",
    "m = 6\n",
    "n = 5\n",
    "\n",
    "b = np.zeros((m,n),dtype = int) ## Creates an zero matrix of shape m*n\n",
    "print()\n",
    "print(b)\n",
    "\n",
    "c = np.linspace(0,10,5)  ## Generates 5 equally spaced numbers in the interval [0,10]\n",
    "print(c)\n",
    "\n",
    "d = np.arange(0,11,5) ## Generates numbers in the interval [0,10) with spacing of 5 between 2 consecutive numbers \n",
    "print(d)\n",
    "\n"
   ]
  },
  {
   "cell_type": "code",
   "execution_count": 5,
   "metadata": {},
   "outputs": [
    {
     "name": "stdout",
     "output_type": "stream",
     "text": [
      "x is:\n",
      "[[ 0.1  4.  -2.9]\n",
      " [-0.6 -4.   9. ]]\n",
      "2 3\n",
      "Reshaped version of x is:\n",
      "[[ 0.1  4.  -2.9 -0.6 -4.   9. ]]\n",
      "Shape of x2 is (1, 6)\n",
      "Rank of x2 is 2\n",
      "Flattened version of x2 is [ 0.1  4.  -2.9 -0.6 -4.   9. ]\n",
      "Shape of x3 is (6,)\n",
      "Rank of x3 is 1\n"
     ]
    }
   ],
   "source": [
    "## Reshaping of arrays:\n",
    "\n",
    "x = np.array([[0.1,4,-2.9],\n",
    "              [-0.6,-4,9]])\n",
    "\n",
    "print(\"x is:\")\n",
    "print(x)\n",
    "row,col = x.shape\n",
    "print(row,col)\n",
    "x2 = x.reshape(1,col*row) \n",
    "print(\"Reshaped version of x is:\")\n",
    "print(x2)\n",
    "print(\"Shape of x2 is {}\".format(x2.shape))\n",
    "print(\"Rank of x2 is {}\".format(x2.ndim))\n",
    "\n",
    "x3 = x2.flatten()\n",
    "print(\"Flattened version of x2 is {}\".format(x3))\n",
    "print(\"Shape of x3 is {}\".format(x3.shape))\n",
    "print(\"Rank of x3 is {}\".format(x3.ndim))"
   ]
  },
  {
   "cell_type": "code",
   "execution_count": 6,
   "metadata": {},
   "outputs": [
    {
     "name": "stdout",
     "output_type": "stream",
     "text": [
      "Original matrix x is:\n",
      "[[ 1  2  3  4]\n",
      " [-5 -1  6 10]\n",
      " [ 4 -9  8  5]]\n",
      "Transpose of matrix x is :\n",
      "[[ 1 -5  4]\n",
      " [ 2 -1 -9]\n",
      " [ 3  6  8]\n",
      " [ 4 10  5]]\n",
      "Sum of elements of x is 28\n",
      "Maximum across each column is given by the array [ 4  2  8 10]\n",
      "Maximum across each row is given by the array [ 4 10  8]\n",
      "Minimum across each column is given by the array [-5 -9  3  4]\n",
      "Minimum across each row is given by the array [ 1 -5 -9]\n",
      "Mean across each column is given by the array [ 0.         -2.66666667  5.66666667  6.33333333]\n",
      "Mean across each row is given by the array [2.5 2.5 2. ]\n"
     ]
    }
   ],
   "source": [
    "## Unary operations :\n",
    "\n",
    "x = np.array([[1,2,3,4],\n",
    "              [-5,-1,6,10],\n",
    "              [4,-9,8,5]])\n",
    "\n",
    "print(\"Original matrix x is:\")\n",
    "print(x)\n",
    "print(\"Transpose of matrix x is :\")\n",
    "print(x.T)\n",
    "print(\"Sum of elements of x is {}\".format(x.sum()))\n",
    "\n",
    "print(\"Maximum across each column is given by the array {}\".format(x.max(axis=0))) # Column wise operation\n",
    "print(\"Maximum across each row is given by the array {}\".format(x.max(axis=1)))  # Row wise operation\n",
    "\n",
    "print(\"Minimum across each column is given by the array {}\".format(x.min(axis=0)))\n",
    "print(\"Minimum across each row is given by the array {}\".format(x.min(axis=1)))\n",
    "\n",
    "print(\"Mean across each column is given by the array {}\".format(x.mean(axis=0)))\n",
    "print(\"Mean across each row is given by the array {}\".format(x.mean(axis=1)))"
   ]
  },
  {
   "cell_type": "code",
   "execution_count": 7,
   "metadata": {},
   "outputs": [
    {
     "name": "stdout",
     "output_type": "stream",
     "text": [
      "Element-wise product between a and b1 is\n",
      "[[  4 -10  18]\n",
      " [  3  -4  24]\n",
      " [  1   8  21]]\n",
      "Element-wise product between a and b2 is\n",
      "[[  4 -10  18]\n",
      " [  3  -4  24]\n",
      " [  1   8  21]]\n",
      "Sum of a and b1 is\n",
      "[[ 5 -3  9]\n",
      " [ 4  0 11]\n",
      " [ 2  6 10]]\n",
      "Sum of a and b2 is\n",
      "[[ 5 -3  9]\n",
      " [ 4  0 11]\n",
      " [ 2  6 10]]\n",
      "Matrix product between a and c is :\n",
      "[[37 -1 14]\n",
      " [54 29 28]\n",
      " [58 64 36]]\n"
     ]
    }
   ],
   "source": [
    "## Operations between two arrays and Broadcasting:\n",
    "\n",
    "a = np.array([[4,-5,6],\n",
    "              [3,-2,8],\n",
    "              [1,4,7]])\n",
    "\n",
    "b1 = np.array([[1,2,3]])\n",
    "\n",
    "b2 = np.array([[1,2,3],\n",
    "              [1,2,3],\n",
    "              [1,2,3]])\n",
    "\n",
    "c = np.array([[4,1,0],\n",
    "            [3,7,2],\n",
    "            [6,5,4]])\n",
    "\n",
    "print(\"Element-wise product between a and b1 is\")\n",
    "print(a*b1)\n",
    "print(\"Element-wise product between a and b2 is\")\n",
    "print(a*b2)\n",
    "\n",
    "print(\"Sum of a and b1 is\")\n",
    "print(a+b1)\n",
    "print(\"Sum of a and b2 is\")\n",
    "print(a+b2)\n",
    "\n",
    "print(\"Matrix product between a and c is :\")\n",
    "print(a.dot(c))\n"
   ]
  },
  {
   "cell_type": "code",
   "execution_count": 8,
   "metadata": {},
   "outputs": [
    {
     "data": {
      "image/png": "[encoded data removed]",
      "text/plain": [
       "<Figure size 432x288 with 1 Axes>"
      ]
     },
     "metadata": {
      "needs_background": "light"
     },
     "output_type": "display_data"
    }
   ],
   "source": [
    "## Universal functions applied to NumPy arrays:\n",
    "import matplotlib.pyplot as plt\n",
    "\n",
    "theta = np.linspace(-np.pi,np.pi,200)\n",
    "sine_theta = np.sin(theta)\n",
    "cosine_theta = np.cos(theta)\n",
    "\n",
    "\n",
    "fig = plt.figure()\n",
    "ax = fig.add_subplot(1, 1, 1)\n",
    "\n",
    "# Move left y-axis and bottim x-axis to centre, passing through (0,0)\n",
    "ax.spines['left'].set_position('center')\n",
    "ax.spines['bottom'].set_position('center')\n",
    "\n",
    "plt.plot(theta,sine_theta,color = \"red\")\n",
    "plt.plot(theta,cosine_theta,color = \"black\")\n",
    "plt.show()"
   ]
  },
  {
   "cell_type": "code",
   "execution_count": 9,
   "metadata": {},
   "outputs": [
    {
     "name": "stdout",
     "output_type": "stream",
     "text": [
      "Uniform distribution generates the following points: [[ 6.44361352  8.1036471  -9.00656271 -8.33973309 -8.82739288 -3.25127278\n",
      "   4.35232008 -0.42609568  4.16982468 -1.14901182]\n",
      " [-6.56318961  4.01498478 -4.1318113   8.82754507 -7.61794568 -5.79403748\n",
      "  -1.51918624 -5.89568919  5.5202046  -3.00562305]\n",
      " [-2.66965241  8.7176307   9.61755611  2.65712451  9.60963964  2.67215718\n",
      "   2.07739275  1.20981365 -7.05442247  2.43269142]\n",
      " [ 5.57921432  1.39136037  4.95451493 -1.85052504 -6.51017793 -7.52287199\n",
      "  -8.69891455 -1.47967766 -4.74956179  0.3486905 ]\n",
      " [ 1.8199587   8.0053121  -0.80825629  5.2321696  -0.65064278  8.30149012\n",
      "  -5.43783386 -2.61131146 -1.4543916  -0.06442829]\n",
      " [-5.30901809  7.26799821  5.75280952  4.65515875  0.89722424  6.46348521\n",
      "  -6.65091397 -4.08423027  3.84304124  2.22894195]\n",
      " [-4.03513194  5.16754196 -9.59121202  4.64165987  7.82132106 -8.26414479\n",
      "   1.84584165  3.21018259  2.50901899  6.35549696]\n",
      " [-6.0780587   8.22990424 -4.93453326  4.71775666  6.95305044  4.13250094\n",
      "  -6.2289402  -4.2772793   4.48481025 -0.8151913 ]\n",
      " [ 6.45525667  6.62997393  4.8444915   2.06736767  8.13976723  9.02328369\n",
      "  -3.10224952  4.45347023 -1.47704696 -6.5976327 ]\n",
      " [-7.71568036 -7.13654879 -6.58689152 -5.51041697  8.06959112  3.47401694\n",
      "  -1.88768153 -1.16528677  8.75619404 -3.79598948]]\n"
     ]
    },
    {
     "data": {
      "image/png": "[encoded data removed]",
      "text/plain": [
       "<Figure size 432x288 with 1 Axes>"
      ]
     },
     "metadata": {
      "needs_background": "light"
     },
     "output_type": "display_data"
    },
    {
     "data": {
      "image/png": "[encoded data removed]",
      "text/plain": [
       "<Figure size 432x288 with 1 Axes>"
      ]
     },
     "metadata": {
      "needs_background": "light"
     },
     "output_type": "display_data"
    }
   ],
   "source": [
    "## Random arrays in NumPy:\n",
    "\n",
    "start = -10\n",
    "stop = 10\n",
    "prob = stop-start\n",
    "\n",
    "num = (10,10)\n",
    "x = np.random.uniform(start,stop,num)\n",
    "print(\"Uniform distribution generates the following points: {}\".format(x))\n",
    "x_flat = x.flatten()\n",
    "count, bins, ignored = plt.hist(x_flat, 15, density=True)\n",
    "plt.plot(bins, np.ones_like(bins)/prob, linewidth=2, color='r')\n",
    "plt.show()\n",
    "\n",
    "\n",
    "mean = 4\n",
    "sig = 2\n",
    "y = mean + sig*np.random.randn(100,10)\n",
    "\n",
    "y_flat = y.flatten()\n",
    "count, bins, ignored = plt.hist(y_flat, 15, density=True)\n",
    "plt.plot(bins, 1/(sig * np.sqrt(2 * np.pi)) *\n",
    "                np.exp( - (bins - mean)**2 / (2 * sig**2) ),\n",
    "          linewidth=2, color='r')\n",
    "plt.show()\n",
    "\n",
    "#print(\"Normal distribution generates the following points: {}\".format(y))"
   ]
  },
  {
   "cell_type": "code",
   "execution_count": 10,
   "metadata": {},
   "outputs": [
    {
     "name": "stdout",
     "output_type": "stream",
     "text": [
      "My roll number is 23\n",
      "Next roll number is 24\n",
      "hsuytarP\n"
     ]
    }
   ],
   "source": [
    "##Brief idea about Object-Oriented Programming\n",
    "\n",
    "class Student:\n",
    "    def __init__(self,Name,Roll,Section):\n",
    "        self.Name = Name\n",
    "        self.Roll = Roll\n",
    "        self.Section = Section\n",
    "    def printRoll(self):\n",
    "        print(\"My roll number is {}\".format(self.Roll))\n",
    "    def nextRoll(self):\n",
    "        print(\"Next roll number is {}\".format(self.Roll+1))\n",
    "    def revName(self):\n",
    "        x = self.Name\n",
    "        print(x[::-1])\n",
    "st1 = Student(\"Pratyush\",23,\"A\")\n",
    "st1.printRoll()\n",
    "st1.nextRoll()\n",
    "st1.revName()"
   ]
  },
  {
   "cell_type": "code",
   "execution_count": 11,
   "metadata": {},
   "outputs": [],
   "source": [
    "start = -10\n",
    "stop = 10\n",
    "prob = stop-start\n",
    "\n",
    "num = (10,10)\n",
    "x = np.random.uniform(start,stop,num)\n",
    "np.savetxt(\"test.csv\",x,delimiter=\",\")"
   ]
  },
  {
   "cell_type": "code",
   "execution_count": null,
   "metadata": {},
   "outputs": [],
   "source": []
  }
 ],
 "metadata": {
  "kernelspec": {
   "display_name": "Python 3",
   "language": "python",
   "name": "python3"
  },
  "language_info": {
   "codemirror_mode": {
    "name": "ipython",
    "version": 3
   },
   "file_extension": ".py",
   "mimetype": "text/x-python",
   "name": "python",
   "nbconvert_exporter": "python",
   "pygments_lexer": "ipython3",
   "version": "3.7.7"
  }
 },
 "nbformat": 4,
 "nbformat_minor": 2
}
