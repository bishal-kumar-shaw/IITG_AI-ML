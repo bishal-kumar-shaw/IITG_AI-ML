{
 "cells": [
  {
   "cell_type": "markdown",
   "metadata": {},
   "source": [
    "# <center>Topic Modelling using PLSA</center>\n",
    "#### <center>Probabilistic latent semantic analysis"
   ]
  },
  {
   "cell_type": "code",
   "execution_count": 18,
   "metadata": {},
   "outputs": [
    {
     "output_type": "stream",
     "name": "stdout",
     "text": [
      "Requirement already satisfied: nltk in /Users/bishal-kumar-shaw/anaconda3/lib/python3.8/site-packages (3.5)\n",
      "Requirement already satisfied: tqdm in /Users/bishal-kumar-shaw/anaconda3/lib/python3.8/site-packages (from nltk) (4.47.0)\n",
      "Requirement already satisfied: click in /Users/bishal-kumar-shaw/anaconda3/lib/python3.8/site-packages (from nltk) (7.1.2)\n",
      "Requirement already satisfied: regex in /Users/bishal-kumar-shaw/anaconda3/lib/python3.8/site-packages (from nltk) (2020.6.8)\n",
      "Requirement already satisfied: joblib in /Users/bishal-kumar-shaw/anaconda3/lib/python3.8/site-packages (from nltk) (0.16.0)\n"
     ]
    }
   ],
   "source": [
    "! pip install nltk"
   ]
  },
  {
   "cell_type": "code",
   "execution_count": 19,
   "metadata": {},
   "outputs": [],
   "source": [
    "import pandas as pd\n",
    "import numpy as np\n",
    "import matplotlib.pyplot as plt\n",
    "from nltk.corpus import stopwords\n",
    "from sklearn.feature_extraction.text import CountVectorizer, TfidfTransformer\n",
    "from sklearn.decomposition import NMF\n",
    "from sklearn.preprocessing import normalize"
   ]
  },
  {
   "cell_type": "markdown",
   "metadata": {},
   "source": [
    "Link to Dataset - https://www.kaggle.com/therohk/million-headlines"
   ]
  },
  {
   "cell_type": "markdown",
   "metadata": {},
   "source": [
    "### Understanding the Tfidftransformer usage\n",
    "\n",
    "Tf means term-frequency while tf-idf means term-frequency times inverse document-frequency. This is a common term weighting scheme in information retrieval, that has also found good use in document classification.\n",
    "\n",
    "The goal of using tf-idf instead of the raw frequencies of occurrence of a token in a given document is to scale down the impact of tokens that occur very frequently in a given corpus and that are hence empirically less informative than features that occur in a small fraction of the training corpus."
   ]
  },
  {
   "cell_type": "code",
   "execution_count": 20,
   "metadata": {},
   "outputs": [],
   "source": [
    "docs=[\"A video of government workers in Puducherry hurriedly throwing the body of a COVID positive man into a pit has caused massive outrage, prompting the administration to order a probe into the incident.\",\n",
    "      \"The COVID pandemic has hit the world and the Vedanta Group business. It has incurred losses in oil, gas and mining sectors.\",\n",
    "      \"Yuvraj Singh was diagnosed with a cancerous tumor in his left lung following India's World Cup triumph in 2011. He had scored 362 runs and claimed 15 wickets in the tournament and was bestowed with the Player of the Tournament award in the end\",\n",
    "      \"Sonu Sood, known as a Bollywood actor, has emerged as the superhero during the COVID-19 pandemic. For thousands of migrants, he is the man who helped them at a time when they were gripped with fear and were walking an uncertain path with no support or even an assurance that all would be well.\",\n",
    "      \"Toyota Kirloskar Motor (TKM) has announced one or two percent price increase in India for Toyota Glanza, Yaris, Innova Crysta, and the Fortuner.\",\n",
    "      \"Facebook will invest Rs 43,574 crore in Jio Platforms, a unit of Reliance Industries Ltd (RIL), for a 9.99% stake, an allcash deal that will help the oil-toretail conglomerate reduce debt and strengthen the social media company's presence in its largest market, especially for itsWhatsApp unit.\"\n",
    "     ]"
   ]
  },
  {
   "cell_type": "code",
   "execution_count": 21,
   "metadata": {},
   "outputs": [],
   "source": [
    "#instantiate CountVectorizer()\n",
    "cv=CountVectorizer()\n",
    " \n",
    "# this steps generates word counts for the words in your docs\n",
    "word_count_vector=cv.fit_transform(docs)\n",
    " "
   ]
  },
  {
   "cell_type": "code",
   "execution_count": 22,
   "metadata": {},
   "outputs": [
    {
     "output_type": "execute_result",
     "data": {
      "text/plain": [
       "(6, 153)"
      ]
     },
     "metadata": {},
     "execution_count": 22
    }
   ],
   "source": [
    "word_count_vector.shape"
   ]
  },
  {
   "cell_type": "code",
   "execution_count": 23,
   "metadata": {},
   "outputs": [
    {
     "output_type": "execute_result",
     "data": {
      "text/plain": [
       "['15',\n",
       " '19',\n",
       " '2011',\n",
       " '362',\n",
       " '43',\n",
       " '574',\n",
       " '99',\n",
       " 'actor',\n",
       " 'administration',\n",
       " 'all',\n",
       " 'allcash',\n",
       " 'an',\n",
       " 'and',\n",
       " 'announced',\n",
       " 'as',\n",
       " 'assurance',\n",
       " 'at',\n",
       " 'award',\n",
       " 'be',\n",
       " 'bestowed',\n",
       " 'body',\n",
       " 'bollywood',\n",
       " 'business',\n",
       " 'cancerous',\n",
       " 'caused',\n",
       " 'claimed',\n",
       " 'company',\n",
       " 'conglomerate',\n",
       " 'covid',\n",
       " 'crore',\n",
       " 'crysta',\n",
       " 'cup',\n",
       " 'deal',\n",
       " 'debt',\n",
       " 'diagnosed',\n",
       " 'during',\n",
       " 'emerged',\n",
       " 'end',\n",
       " 'especially',\n",
       " 'even',\n",
       " 'facebook',\n",
       " 'fear',\n",
       " 'following',\n",
       " 'for',\n",
       " 'fortuner',\n",
       " 'gas',\n",
       " 'glanza',\n",
       " 'government',\n",
       " 'gripped',\n",
       " 'group',\n",
       " 'had',\n",
       " 'has',\n",
       " 'he',\n",
       " 'help',\n",
       " 'helped',\n",
       " 'his',\n",
       " 'hit',\n",
       " 'hurriedly',\n",
       " 'in',\n",
       " 'incident',\n",
       " 'increase',\n",
       " 'incurred',\n",
       " 'india',\n",
       " 'industries',\n",
       " 'innova',\n",
       " 'into',\n",
       " 'invest',\n",
       " 'is',\n",
       " 'it',\n",
       " 'its',\n",
       " 'itswhatsapp',\n",
       " 'jio',\n",
       " 'kirloskar',\n",
       " 'known',\n",
       " 'largest',\n",
       " 'left',\n",
       " 'losses',\n",
       " 'ltd',\n",
       " 'lung',\n",
       " 'man',\n",
       " 'market',\n",
       " 'massive',\n",
       " 'media',\n",
       " 'migrants',\n",
       " 'mining',\n",
       " 'motor',\n",
       " 'no',\n",
       " 'of',\n",
       " 'oil',\n",
       " 'one',\n",
       " 'or',\n",
       " 'order',\n",
       " 'outrage',\n",
       " 'pandemic',\n",
       " 'path',\n",
       " 'percent',\n",
       " 'pit',\n",
       " 'platforms',\n",
       " 'player',\n",
       " 'positive',\n",
       " 'presence',\n",
       " 'price',\n",
       " 'probe',\n",
       " 'prompting',\n",
       " 'puducherry',\n",
       " 'reduce',\n",
       " 'reliance',\n",
       " 'ril',\n",
       " 'rs',\n",
       " 'runs',\n",
       " 'scored',\n",
       " 'sectors',\n",
       " 'singh',\n",
       " 'social',\n",
       " 'sonu',\n",
       " 'sood',\n",
       " 'stake',\n",
       " 'strengthen',\n",
       " 'superhero',\n",
       " 'support',\n",
       " 'that',\n",
       " 'the',\n",
       " 'them',\n",
       " 'they',\n",
       " 'thousands',\n",
       " 'throwing',\n",
       " 'time',\n",
       " 'tkm',\n",
       " 'to',\n",
       " 'toretail',\n",
       " 'tournament',\n",
       " 'toyota',\n",
       " 'triumph',\n",
       " 'tumor',\n",
       " 'two',\n",
       " 'uncertain',\n",
       " 'unit',\n",
       " 'vedanta',\n",
       " 'video',\n",
       " 'walking',\n",
       " 'was',\n",
       " 'well',\n",
       " 'were',\n",
       " 'when',\n",
       " 'who',\n",
       " 'wickets',\n",
       " 'will',\n",
       " 'with',\n",
       " 'workers',\n",
       " 'world',\n",
       " 'would',\n",
       " 'yaris',\n",
       " 'yuvraj']"
      ]
     },
     "metadata": {},
     "execution_count": 23
    }
   ],
   "source": [
    "cv.get_feature_names()"
   ]
  },
  {
   "cell_type": "code",
   "execution_count": 24,
   "metadata": {},
   "outputs": [],
   "source": [
    "tfidf_transformer = TfidfTransformer()\n",
    "tf_idf_vector = tfidf_transformer.fit_transform(word_count_vector)"
   ]
  },
  {
   "cell_type": "code",
   "execution_count": 25,
   "metadata": {},
   "outputs": [
    {
     "output_type": "execute_result",
     "data": {
      "text/plain": [
       "               tfidf\n",
       "in          0.307338\n",
       "was         0.299943\n",
       "tournament  0.299943\n",
       "the         0.266289\n",
       "with        0.245958\n",
       "...              ...\n",
       "innova      0.000000\n",
       "industries  0.000000\n",
       "incurred    0.000000\n",
       "increase    0.000000\n",
       "losses      0.000000\n",
       "\n",
       "[153 rows x 1 columns]"
      ],
      "text/html": "<div>\n<style scoped>\n    .dataframe tbody tr th:only-of-type {\n        vertical-align: middle;\n    }\n\n    .dataframe tbody tr th {\n        vertical-align: top;\n    }\n\n    .dataframe thead th {\n        text-align: right;\n    }\n</style>\n<table border=\"1\" class=\"dataframe\">\n  <thead>\n    <tr style=\"text-align: right;\">\n      <th></th>\n      <th>tfidf</th>\n    </tr>\n  </thead>\n  <tbody>\n    <tr>\n      <th>in</th>\n      <td>0.307338</td>\n    </tr>\n    <tr>\n      <th>was</th>\n      <td>0.299943</td>\n    </tr>\n    <tr>\n      <th>tournament</th>\n      <td>0.299943</td>\n    </tr>\n    <tr>\n      <th>the</th>\n      <td>0.266289</td>\n    </tr>\n    <tr>\n      <th>with</th>\n      <td>0.245958</td>\n    </tr>\n    <tr>\n      <th>...</th>\n      <td>...</td>\n    </tr>\n    <tr>\n      <th>innova</th>\n      <td>0.000000</td>\n    </tr>\n    <tr>\n      <th>industries</th>\n      <td>0.000000</td>\n    </tr>\n    <tr>\n      <th>incurred</th>\n      <td>0.000000</td>\n    </tr>\n    <tr>\n      <th>increase</th>\n      <td>0.000000</td>\n    </tr>\n    <tr>\n      <th>losses</th>\n      <td>0.000000</td>\n    </tr>\n  </tbody>\n</table>\n<p>153 rows × 1 columns</p>\n</div>"
     },
     "metadata": {},
     "execution_count": 25
    }
   ],
   "source": [
    "feature_names = cv.get_feature_names()\n",
    " \n",
    "#get tfidf vector for first document\n",
    "first_document_vector=tf_idf_vector[2]\n",
    " \n",
    "#print the scores\n",
    "df = pd.DataFrame(first_document_vector.T.todense(), index=feature_names, columns=[\"tfidf\"])\n",
    "df.sort_values(by=[\"tfidf\"],ascending=False)"
   ]
  },
  {
   "cell_type": "markdown",
   "metadata": {},
   "source": [
    "---"
   ]
  },
  {
   "cell_type": "markdown",
   "metadata": {},
   "source": [
    "## Topic modelling using PLSA"
   ]
  },
  {
   "cell_type": "code",
   "execution_count": 26,
   "metadata": {},
   "outputs": [],
   "source": [
    "df=pd.read_csv('abcnews-date-text.csv')"
   ]
  },
  {
   "cell_type": "code",
   "execution_count": 27,
   "metadata": {},
   "outputs": [
    {
     "output_type": "execute_result",
     "data": {
      "text/plain": [
       "   publish_date                                      headline_text\n",
       "0      20030219  aba decides against community broadcasting lic...\n",
       "1      20030219     act fire witnesses must be aware of defamation\n",
       "2      20030219     a g calls for infrastructure protection summit\n",
       "3      20030219           air nz staff in aust strike for pay rise\n",
       "4      20030219      air nz strike to affect australian travellers\n",
       "5      20030219                  ambitious olsson wins triple jump\n",
       "6      20030219         antic delighted with record breaking barca\n",
       "7      20030219  aussie qualifier stosur wastes four memphis match\n",
       "8      20030219       aust addresses un security council over iraq\n",
       "9      20030219         australia is locked into war timetable opp"
      ],
      "text/html": "<div>\n<style scoped>\n    .dataframe tbody tr th:only-of-type {\n        vertical-align: middle;\n    }\n\n    .dataframe tbody tr th {\n        vertical-align: top;\n    }\n\n    .dataframe thead th {\n        text-align: right;\n    }\n</style>\n<table border=\"1\" class=\"dataframe\">\n  <thead>\n    <tr style=\"text-align: right;\">\n      <th></th>\n      <th>publish_date</th>\n      <th>headline_text</th>\n    </tr>\n  </thead>\n  <tbody>\n    <tr>\n      <th>0</th>\n      <td>20030219</td>\n      <td>aba decides against community broadcasting lic...</td>\n    </tr>\n    <tr>\n      <th>1</th>\n      <td>20030219</td>\n      <td>act fire witnesses must be aware of defamation</td>\n    </tr>\n    <tr>\n      <th>2</th>\n      <td>20030219</td>\n      <td>a g calls for infrastructure protection summit</td>\n    </tr>\n    <tr>\n      <th>3</th>\n      <td>20030219</td>\n      <td>air nz staff in aust strike for pay rise</td>\n    </tr>\n    <tr>\n      <th>4</th>\n      <td>20030219</td>\n      <td>air nz strike to affect australian travellers</td>\n    </tr>\n    <tr>\n      <th>5</th>\n      <td>20030219</td>\n      <td>ambitious olsson wins triple jump</td>\n    </tr>\n    <tr>\n      <th>6</th>\n      <td>20030219</td>\n      <td>antic delighted with record breaking barca</td>\n    </tr>\n    <tr>\n      <th>7</th>\n      <td>20030219</td>\n      <td>aussie qualifier stosur wastes four memphis match</td>\n    </tr>\n    <tr>\n      <th>8</th>\n      <td>20030219</td>\n      <td>aust addresses un security council over iraq</td>\n    </tr>\n    <tr>\n      <th>9</th>\n      <td>20030219</td>\n      <td>australia is locked into war timetable opp</td>\n    </tr>\n  </tbody>\n</table>\n</div>"
     },
     "metadata": {},
     "execution_count": 27
    }
   ],
   "source": [
    "df.head(10)"
   ]
  },
  {
   "cell_type": "code",
   "execution_count": 28,
   "metadata": {},
   "outputs": [],
   "source": [
    "data_text = df[['headline_text']].astype('str')"
   ]
  },
  {
   "cell_type": "code",
   "execution_count": 29,
   "metadata": {},
   "outputs": [
    {
     "output_type": "execute_result",
     "data": {
      "text/plain": [
       "(1186018, 1)"
      ]
     },
     "metadata": {},
     "execution_count": 29
    }
   ],
   "source": [
    "data_text.shape"
   ]
  },
  {
   "cell_type": "code",
   "execution_count": 30,
   "metadata": {},
   "outputs": [],
   "source": [
    "data_text=data_text.loc[1:100000,:]"
   ]
  },
  {
   "cell_type": "code",
   "execution_count": 31,
   "metadata": {},
   "outputs": [
    {
     "output_type": "execute_result",
     "data": {
      "text/plain": [
       "(100000, 1)"
      ]
     },
     "metadata": {},
     "execution_count": 31
    }
   ],
   "source": [
    "data_text.shape"
   ]
  },
  {
   "cell_type": "code",
   "execution_count": 32,
   "metadata": {},
   "outputs": [
    {
     "output_type": "stream",
     "name": "stderr",
     "text": [
      "[nltk_data] Downloading package stopwords to /Users/bishal-kumar-\n[nltk_data]     shaw/nltk_data...\n[nltk_data]   Package stopwords is already up-to-date!\n"
     ]
    },
    {
     "output_type": "execute_result",
     "data": {
      "text/plain": [
       "True"
      ]
     },
     "metadata": {},
     "execution_count": 32
    }
   ],
   "source": [
    "import nltk\n",
    "nltk.download('stopwords')"
   ]
  },
  {
   "cell_type": "code",
   "execution_count": 33,
   "metadata": {},
   "outputs": [],
   "source": [
    "stopw = stopwords.words('english')\n",
    "def stopwords_remove(x):\n",
    "    terms=x.split(' ')\n",
    "    terms=[w for w in terms if w not in stopw]\n",
    "    sentence=' '.join(terms)\n",
    "    return sentence\n",
    "data_text['Refined_headlines']=data_text['headline_text'].apply(lambda x: stopwords_remove(x))"
   ]
  },
  {
   "cell_type": "code",
   "execution_count": 34,
   "metadata": {},
   "outputs": [
    {
     "output_type": "execute_result",
     "data": {
      "text/plain": [
       "['i',\n",
       " 'me',\n",
       " 'my',\n",
       " 'myself',\n",
       " 'we',\n",
       " 'our',\n",
       " 'ours',\n",
       " 'ourselves',\n",
       " 'you',\n",
       " \"you're\",\n",
       " \"you've\",\n",
       " \"you'll\",\n",
       " \"you'd\",\n",
       " 'your',\n",
       " 'yours',\n",
       " 'yourself',\n",
       " 'yourselves',\n",
       " 'he',\n",
       " 'him',\n",
       " 'his',\n",
       " 'himself',\n",
       " 'she',\n",
       " \"she's\",\n",
       " 'her',\n",
       " 'hers',\n",
       " 'herself',\n",
       " 'it',\n",
       " \"it's\",\n",
       " 'its',\n",
       " 'itself',\n",
       " 'they',\n",
       " 'them',\n",
       " 'their',\n",
       " 'theirs',\n",
       " 'themselves',\n",
       " 'what',\n",
       " 'which',\n",
       " 'who',\n",
       " 'whom',\n",
       " 'this',\n",
       " 'that',\n",
       " \"that'll\",\n",
       " 'these',\n",
       " 'those',\n",
       " 'am',\n",
       " 'is',\n",
       " 'are',\n",
       " 'was',\n",
       " 'were',\n",
       " 'be',\n",
       " 'been',\n",
       " 'being',\n",
       " 'have',\n",
       " 'has',\n",
       " 'had',\n",
       " 'having',\n",
       " 'do',\n",
       " 'does',\n",
       " 'did',\n",
       " 'doing',\n",
       " 'a',\n",
       " 'an',\n",
       " 'the',\n",
       " 'and',\n",
       " 'but',\n",
       " 'if',\n",
       " 'or',\n",
       " 'because',\n",
       " 'as',\n",
       " 'until',\n",
       " 'while',\n",
       " 'of',\n",
       " 'at',\n",
       " 'by',\n",
       " 'for',\n",
       " 'with',\n",
       " 'about',\n",
       " 'against',\n",
       " 'between',\n",
       " 'into',\n",
       " 'through',\n",
       " 'during',\n",
       " 'before',\n",
       " 'after',\n",
       " 'above',\n",
       " 'below',\n",
       " 'to',\n",
       " 'from',\n",
       " 'up',\n",
       " 'down',\n",
       " 'in',\n",
       " 'out',\n",
       " 'on',\n",
       " 'off',\n",
       " 'over',\n",
       " 'under',\n",
       " 'again',\n",
       " 'further',\n",
       " 'then',\n",
       " 'once',\n",
       " 'here',\n",
       " 'there',\n",
       " 'when',\n",
       " 'where',\n",
       " 'why',\n",
       " 'how',\n",
       " 'all',\n",
       " 'any',\n",
       " 'both',\n",
       " 'each',\n",
       " 'few',\n",
       " 'more',\n",
       " 'most',\n",
       " 'other',\n",
       " 'some',\n",
       " 'such',\n",
       " 'no',\n",
       " 'nor',\n",
       " 'not',\n",
       " 'only',\n",
       " 'own',\n",
       " 'same',\n",
       " 'so',\n",
       " 'than',\n",
       " 'too',\n",
       " 'very',\n",
       " 's',\n",
       " 't',\n",
       " 'can',\n",
       " 'will',\n",
       " 'just',\n",
       " 'don',\n",
       " \"don't\",\n",
       " 'should',\n",
       " \"should've\",\n",
       " 'now',\n",
       " 'd',\n",
       " 'll',\n",
       " 'm',\n",
       " 'o',\n",
       " 're',\n",
       " 've',\n",
       " 'y',\n",
       " 'ain',\n",
       " 'aren',\n",
       " \"aren't\",\n",
       " 'couldn',\n",
       " \"couldn't\",\n",
       " 'didn',\n",
       " \"didn't\",\n",
       " 'doesn',\n",
       " \"doesn't\",\n",
       " 'hadn',\n",
       " \"hadn't\",\n",
       " 'hasn',\n",
       " \"hasn't\",\n",
       " 'haven',\n",
       " \"haven't\",\n",
       " 'isn',\n",
       " \"isn't\",\n",
       " 'ma',\n",
       " 'mightn',\n",
       " \"mightn't\",\n",
       " 'mustn',\n",
       " \"mustn't\",\n",
       " 'needn',\n",
       " \"needn't\",\n",
       " 'shan',\n",
       " \"shan't\",\n",
       " 'shouldn',\n",
       " \"shouldn't\",\n",
       " 'wasn',\n",
       " \"wasn't\",\n",
       " 'weren',\n",
       " \"weren't\",\n",
       " 'won',\n",
       " \"won't\",\n",
       " 'wouldn',\n",
       " \"wouldn't\"]"
      ]
     },
     "metadata": {},
     "execution_count": 34
    }
   ],
   "source": [
    "stopw"
   ]
  },
  {
   "cell_type": "code",
   "execution_count": 35,
   "metadata": {},
   "outputs": [],
   "source": [
    "def word_count(x):\n",
    "    terms = x.split()\n",
    "    return len(terms)\n",
    "data_text['Word_Count']=data_text['Refined_headlines'].apply(lambda x: word_count(x))"
   ]
  },
  {
   "cell_type": "code",
   "execution_count": 36,
   "metadata": {},
   "outputs": [
    {
     "output_type": "execute_result",
     "data": {
      "text/plain": [
       "                                    headline_text  \\\n",
       "1  act fire witnesses must be aware of defamation   \n",
       "2  a g calls for infrastructure protection summit   \n",
       "3        air nz staff in aust strike for pay rise   \n",
       "4   air nz strike to affect australian travellers   \n",
       "5               ambitious olsson wins triple jump   \n",
       "\n",
       "                            Refined_headlines  Word_Count  \n",
       "1    act fire witnesses must aware defamation           6  \n",
       "2    g calls infrastructure protection summit           5  \n",
       "3           air nz staff aust strike pay rise           7  \n",
       "4  air nz strike affect australian travellers           6  \n",
       "5           ambitious olsson wins triple jump           5  "
      ],
      "text/html": "<div>\n<style scoped>\n    .dataframe tbody tr th:only-of-type {\n        vertical-align: middle;\n    }\n\n    .dataframe tbody tr th {\n        vertical-align: top;\n    }\n\n    .dataframe thead th {\n        text-align: right;\n    }\n</style>\n<table border=\"1\" class=\"dataframe\">\n  <thead>\n    <tr style=\"text-align: right;\">\n      <th></th>\n      <th>headline_text</th>\n      <th>Refined_headlines</th>\n      <th>Word_Count</th>\n    </tr>\n  </thead>\n  <tbody>\n    <tr>\n      <th>1</th>\n      <td>act fire witnesses must be aware of defamation</td>\n      <td>act fire witnesses must aware defamation</td>\n      <td>6</td>\n    </tr>\n    <tr>\n      <th>2</th>\n      <td>a g calls for infrastructure protection summit</td>\n      <td>g calls infrastructure protection summit</td>\n      <td>5</td>\n    </tr>\n    <tr>\n      <th>3</th>\n      <td>air nz staff in aust strike for pay rise</td>\n      <td>air nz staff aust strike pay rise</td>\n      <td>7</td>\n    </tr>\n    <tr>\n      <th>4</th>\n      <td>air nz strike to affect australian travellers</td>\n      <td>air nz strike affect australian travellers</td>\n      <td>6</td>\n    </tr>\n    <tr>\n      <th>5</th>\n      <td>ambitious olsson wins triple jump</td>\n      <td>ambitious olsson wins triple jump</td>\n      <td>5</td>\n    </tr>\n  </tbody>\n</table>\n</div>"
     },
     "metadata": {},
     "execution_count": 36
    }
   ],
   "source": [
    "data_text.head()"
   ]
  },
  {
   "cell_type": "code",
   "execution_count": 37,
   "metadata": {},
   "outputs": [
    {
     "output_type": "execute_result",
     "data": {
      "text/plain": [
       "count    100000.000000\n",
       "mean          5.252910\n",
       "std           1.036744\n",
       "min           1.000000\n",
       "25%           5.000000\n",
       "50%           5.000000\n",
       "75%           6.000000\n",
       "max          10.000000\n",
       "Name: Word_Count, dtype: float64"
      ]
     },
     "metadata": {},
     "execution_count": 37
    }
   ],
   "source": [
    "data_text['Word_Count'].describe()"
   ]
  },
  {
   "cell_type": "code",
   "execution_count": 38,
   "metadata": {},
   "outputs": [
    {
     "output_type": "display_data",
     "data": {
      "text/plain": "<Figure size 720x360 with 1 Axes>",
      "image/svg+xml": "<?xml version=\"1.0\" encoding=\"utf-8\" standalone=\"no\"?>\n<!DOCTYPE svg PUBLIC \"-//W3C//DTD SVG 1.1//EN\"\n  \"http://www.w3.org/Graphics/SVG/1.1/DTD/svg11.dtd\">\n<!-- Created with matplotlib (https://matplotlib.org/) -->\n<svg height=\"336.649375pt\" version=\"1.1\" viewBox=\"0 0 626.82625 336.649375\" width=\"626.82625pt\" xmlns=\"http://www.w3.org/2000/svg\" xmlns:xlink=\"http://www.w3.org/1999/xlink\">\n <defs>\n  <style type=\"text/css\">\n*{stroke-linecap:butt;stroke-linejoin:round;}\n  </style>\n </defs>\n <g id=\"figure_1\">\n  <g id=\"patch_1\">\n   <path d=\"M 0 336.649375 \nL 626.82625 336.649375 \nL 626.82625 0 \nL 0 0 \nz\n\" style=\"fill:none;\"/>\n  </g>\n  <g id=\"axes_1\">\n   <g id=\"patch_2\">\n    <path d=\"M 61.62625 297.1575 \nL 619.62625 297.1575 \nL 619.62625 25.3575 \nL 61.62625 25.3575 \nz\n\" style=\"fill:#ffffff;\"/>\n   </g>\n   <g id=\"patch_3\">\n    <path clip-path=\"url(#p814ef21555)\" d=\"M 86.989886 297.1575 \nL 112.353523 297.1575 \nL 112.353523 296.928883 \nL 86.989886 296.928883 \nz\n\" style=\"fill:#60505c;\"/>\n   </g>\n   <g id=\"patch_4\">\n    <path clip-path=\"url(#p814ef21555)\" d=\"M 112.353523 297.1575 \nL 137.717159 297.1575 \nL 137.717159 297.1575 \nL 112.353523 297.1575 \nz\n\" style=\"fill:#60505c;\"/>\n   </g>\n   <g id=\"patch_5\">\n    <path clip-path=\"url(#p814ef21555)\" d=\"M 137.717159 297.1575 \nL 163.080795 297.1575 \nL 163.080795 295.841219 \nL 137.717159 295.841219 \nz\n\" style=\"fill:#60505c;\"/>\n   </g>\n   <g id=\"patch_6\">\n    <path clip-path=\"url(#p814ef21555)\" d=\"M 163.080795 297.1575 \nL 188.444432 297.1575 \nL 188.444432 297.1575 \nL 163.080795 297.1575 \nz\n\" style=\"fill:#60505c;\"/>\n   </g>\n   <g id=\"patch_7\">\n    <path clip-path=\"url(#p814ef21555)\" d=\"M 188.444432 297.1575 \nL 213.808068 297.1575 \nL 213.808068 274.406614 \nL 188.444432 274.406614 \nz\n\" style=\"fill:#60505c;\"/>\n   </g>\n   <g id=\"patch_8\">\n    <path clip-path=\"url(#p814ef21555)\" d=\"M 213.808068 297.1575 \nL 239.171705 297.1575 \nL 239.171705 297.1575 \nL 213.808068 297.1575 \nz\n\" style=\"fill:#60505c;\"/>\n   </g>\n   <g id=\"patch_9\">\n    <path clip-path=\"url(#p814ef21555)\" d=\"M 239.171705 297.1575 \nL 264.535341 297.1575 \nL 264.535341 163.111552 \nL 239.171705 163.111552 \nz\n\" style=\"fill:#60505c;\"/>\n   </g>\n   <g id=\"patch_10\">\n    <path clip-path=\"url(#p814ef21555)\" d=\"M 264.535341 297.1575 \nL 289.898977 297.1575 \nL 289.898977 297.1575 \nL 264.535341 297.1575 \nz\n\" style=\"fill:#60505c;\"/>\n   </g>\n   <g id=\"patch_11\">\n    <path clip-path=\"url(#p814ef21555)\" d=\"M 289.898977 297.1575 \nL 315.262614 297.1575 \nL 315.262614 38.300357 \nL 289.898977 38.300357 \nz\n\" style=\"fill:#60505c;\"/>\n   </g>\n   <g id=\"patch_12\">\n    <path clip-path=\"url(#p814ef21555)\" d=\"M 315.262614 297.1575 \nL 340.62625 297.1575 \nL 340.62625 297.1575 \nL 315.262614 297.1575 \nz\n\" style=\"fill:#60505c;\"/>\n   </g>\n   <g id=\"patch_13\">\n    <path clip-path=\"url(#p814ef21555)\" d=\"M 340.62625 297.1575 \nL 365.989886 297.1575 \nL 365.989886 297.1575 \nL 340.62625 297.1575 \nz\n\" style=\"fill:#60505c;\"/>\n   </g>\n   <g id=\"patch_14\">\n    <path clip-path=\"url(#p814ef21555)\" d=\"M 365.989886 297.1575 \nL 391.353523 297.1575 \nL 391.353523 95.81493 \nL 365.989886 95.81493 \nz\n\" style=\"fill:#60505c;\"/>\n   </g>\n   <g id=\"patch_15\">\n    <path clip-path=\"url(#p814ef21555)\" d=\"M 391.353523 297.1575 \nL 416.717159 297.1575 \nL 416.717159 297.1575 \nL 391.353523 297.1575 \nz\n\" style=\"fill:#60505c;\"/>\n   </g>\n   <g id=\"patch_16\">\n    <path clip-path=\"url(#p814ef21555)\" d=\"M 416.717159 297.1575 \nL 442.080795 297.1575 \nL 442.080795 232.223257 \nL 416.717159 232.223257 \nz\n\" style=\"fill:#60505c;\"/>\n   </g>\n   <g id=\"patch_17\">\n    <path clip-path=\"url(#p814ef21555)\" d=\"M 442.080795 297.1575 \nL 467.444432 297.1575 \nL 467.444432 297.1575 \nL 442.080795 297.1575 \nz\n\" style=\"fill:#60505c;\"/>\n   </g>\n   <g id=\"patch_18\">\n    <path clip-path=\"url(#p814ef21555)\" d=\"M 467.444432 297.1575 \nL 492.808068 297.1575 \nL 492.808068 288.317631 \nL 467.444432 288.317631 \nz\n\" style=\"fill:#60505c;\"/>\n   </g>\n   <g id=\"patch_19\">\n    <path clip-path=\"url(#p814ef21555)\" d=\"M 492.808068 297.1575 \nL 518.171705 297.1575 \nL 518.171705 297.1575 \nL 492.808068 297.1575 \nz\n\" style=\"fill:#60505c;\"/>\n   </g>\n   <g id=\"patch_20\">\n    <path clip-path=\"url(#p814ef21555)\" d=\"M 518.171705 297.1575 \nL 543.535341 297.1575 \nL 543.535341 296.727977 \nL 518.171705 296.727977 \nz\n\" style=\"fill:#60505c;\"/>\n   </g>\n   <g id=\"patch_21\">\n    <path clip-path=\"url(#p814ef21555)\" d=\"M 543.535341 297.1575 \nL 568.898977 297.1575 \nL 568.898977 297.1575 \nL 543.535341 297.1575 \nz\n\" style=\"fill:#60505c;\"/>\n   </g>\n   <g id=\"patch_22\">\n    <path clip-path=\"url(#p814ef21555)\" d=\"M 568.898977 297.1575 \nL 594.262614 297.1575 \nL 594.262614 297.122861 \nL 568.898977 297.122861 \nz\n\" style=\"fill:#60505c;\"/>\n   </g>\n   <g id=\"matplotlib.axis_1\">\n    <g id=\"xtick_1\">\n     <g id=\"line2d_1\">\n      <defs>\n       <path d=\"M 0 0 \nL 0 3.5 \n\" id=\"m9470bab058\" style=\"stroke:#000000;stroke-width:0.8;\"/>\n      </defs>\n      <g>\n       <use style=\"stroke:#000000;stroke-width:0.8;\" x=\"143.353523\" xlink:href=\"#m9470bab058\" y=\"297.1575\"/>\n      </g>\n     </g>\n     <g id=\"text_1\">\n      <!-- 2 -->\n      <defs>\n       <path d=\"M 19.1875 8.296875 \nL 53.609375 8.296875 \nL 53.609375 0 \nL 7.328125 0 \nL 7.328125 8.296875 \nQ 12.9375 14.109375 22.625 23.890625 \nQ 32.328125 33.6875 34.8125 36.53125 \nQ 39.546875 41.84375 41.421875 45.53125 \nQ 43.3125 49.21875 43.3125 52.78125 \nQ 43.3125 58.59375 39.234375 62.25 \nQ 35.15625 65.921875 28.609375 65.921875 \nQ 23.96875 65.921875 18.8125 64.3125 \nQ 13.671875 62.703125 7.8125 59.421875 \nL 7.8125 69.390625 \nQ 13.765625 71.78125 18.9375 73 \nQ 24.125 74.21875 28.421875 74.21875 \nQ 39.75 74.21875 46.484375 68.546875 \nQ 53.21875 62.890625 53.21875 53.421875 \nQ 53.21875 48.921875 51.53125 44.890625 \nQ 49.859375 40.875 45.40625 35.40625 \nQ 44.1875 33.984375 37.640625 27.21875 \nQ 31.109375 20.453125 19.1875 8.296875 \nz\n\" id=\"DejaVuSans-50\"/>\n      </defs>\n      <g transform=\"translate(140.172273 311.755937)scale(0.1 -0.1)\">\n       <use xlink:href=\"#DejaVuSans-50\"/>\n      </g>\n     </g>\n    </g>\n    <g id=\"xtick_2\">\n     <g id=\"line2d_2\">\n      <g>\n       <use style=\"stroke:#000000;stroke-width:0.8;\" x=\"256.080795\" xlink:href=\"#m9470bab058\" y=\"297.1575\"/>\n      </g>\n     </g>\n     <g id=\"text_2\">\n      <!-- 4 -->\n      <defs>\n       <path d=\"M 37.796875 64.3125 \nL 12.890625 25.390625 \nL 37.796875 25.390625 \nz\nM 35.203125 72.90625 \nL 47.609375 72.90625 \nL 47.609375 25.390625 \nL 58.015625 25.390625 \nL 58.015625 17.1875 \nL 47.609375 17.1875 \nL 47.609375 0 \nL 37.796875 0 \nL 37.796875 17.1875 \nL 4.890625 17.1875 \nL 4.890625 26.703125 \nz\n\" id=\"DejaVuSans-52\"/>\n      </defs>\n      <g transform=\"translate(252.899545 311.755937)scale(0.1 -0.1)\">\n       <use xlink:href=\"#DejaVuSans-52\"/>\n      </g>\n     </g>\n    </g>\n    <g id=\"xtick_3\">\n     <g id=\"line2d_3\">\n      <g>\n       <use style=\"stroke:#000000;stroke-width:0.8;\" x=\"368.808068\" xlink:href=\"#m9470bab058\" y=\"297.1575\"/>\n      </g>\n     </g>\n     <g id=\"text_3\">\n      <!-- 6 -->\n      <defs>\n       <path d=\"M 33.015625 40.375 \nQ 26.375 40.375 22.484375 35.828125 \nQ 18.609375 31.296875 18.609375 23.390625 \nQ 18.609375 15.53125 22.484375 10.953125 \nQ 26.375 6.390625 33.015625 6.390625 \nQ 39.65625 6.390625 43.53125 10.953125 \nQ 47.40625 15.53125 47.40625 23.390625 \nQ 47.40625 31.296875 43.53125 35.828125 \nQ 39.65625 40.375 33.015625 40.375 \nz\nM 52.59375 71.296875 \nL 52.59375 62.3125 \nQ 48.875 64.0625 45.09375 64.984375 \nQ 41.3125 65.921875 37.59375 65.921875 \nQ 27.828125 65.921875 22.671875 59.328125 \nQ 17.53125 52.734375 16.796875 39.40625 \nQ 19.671875 43.65625 24.015625 45.921875 \nQ 28.375 48.1875 33.59375 48.1875 \nQ 44.578125 48.1875 50.953125 41.515625 \nQ 57.328125 34.859375 57.328125 23.390625 \nQ 57.328125 12.15625 50.6875 5.359375 \nQ 44.046875 -1.421875 33.015625 -1.421875 \nQ 20.359375 -1.421875 13.671875 8.265625 \nQ 6.984375 17.96875 6.984375 36.375 \nQ 6.984375 53.65625 15.1875 63.9375 \nQ 23.390625 74.21875 37.203125 74.21875 \nQ 40.921875 74.21875 44.703125 73.484375 \nQ 48.484375 72.75 52.59375 71.296875 \nz\n\" id=\"DejaVuSans-54\"/>\n      </defs>\n      <g transform=\"translate(365.626818 311.755937)scale(0.1 -0.1)\">\n       <use xlink:href=\"#DejaVuSans-54\"/>\n      </g>\n     </g>\n    </g>\n    <g id=\"xtick_4\">\n     <g id=\"line2d_4\">\n      <g>\n       <use style=\"stroke:#000000;stroke-width:0.8;\" x=\"481.535341\" xlink:href=\"#m9470bab058\" y=\"297.1575\"/>\n      </g>\n     </g>\n     <g id=\"text_4\">\n      <!-- 8 -->\n      <defs>\n       <path d=\"M 31.78125 34.625 \nQ 24.75 34.625 20.71875 30.859375 \nQ 16.703125 27.09375 16.703125 20.515625 \nQ 16.703125 13.921875 20.71875 10.15625 \nQ 24.75 6.390625 31.78125 6.390625 \nQ 38.8125 6.390625 42.859375 10.171875 \nQ 46.921875 13.96875 46.921875 20.515625 \nQ 46.921875 27.09375 42.890625 30.859375 \nQ 38.875 34.625 31.78125 34.625 \nz\nM 21.921875 38.8125 \nQ 15.578125 40.375 12.03125 44.71875 \nQ 8.5 49.078125 8.5 55.328125 \nQ 8.5 64.0625 14.71875 69.140625 \nQ 20.953125 74.21875 31.78125 74.21875 \nQ 42.671875 74.21875 48.875 69.140625 \nQ 55.078125 64.0625 55.078125 55.328125 \nQ 55.078125 49.078125 51.53125 44.71875 \nQ 48 40.375 41.703125 38.8125 \nQ 48.828125 37.15625 52.796875 32.3125 \nQ 56.78125 27.484375 56.78125 20.515625 \nQ 56.78125 9.90625 50.3125 4.234375 \nQ 43.84375 -1.421875 31.78125 -1.421875 \nQ 19.734375 -1.421875 13.25 4.234375 \nQ 6.78125 9.90625 6.78125 20.515625 \nQ 6.78125 27.484375 10.78125 32.3125 \nQ 14.796875 37.15625 21.921875 38.8125 \nz\nM 18.3125 54.390625 \nQ 18.3125 48.734375 21.84375 45.5625 \nQ 25.390625 42.390625 31.78125 42.390625 \nQ 38.140625 42.390625 41.71875 45.5625 \nQ 45.3125 48.734375 45.3125 54.390625 \nQ 45.3125 60.0625 41.71875 63.234375 \nQ 38.140625 66.40625 31.78125 66.40625 \nQ 25.390625 66.40625 21.84375 63.234375 \nQ 18.3125 60.0625 18.3125 54.390625 \nz\n\" id=\"DejaVuSans-56\"/>\n      </defs>\n      <g transform=\"translate(478.354091 311.755937)scale(0.1 -0.1)\">\n       <use xlink:href=\"#DejaVuSans-56\"/>\n      </g>\n     </g>\n    </g>\n    <g id=\"xtick_5\">\n     <g id=\"line2d_5\">\n      <g>\n       <use style=\"stroke:#000000;stroke-width:0.8;\" x=\"594.262614\" xlink:href=\"#m9470bab058\" y=\"297.1575\"/>\n      </g>\n     </g>\n     <g id=\"text_5\">\n      <!-- 10 -->\n      <defs>\n       <path d=\"M 12.40625 8.296875 \nL 28.515625 8.296875 \nL 28.515625 63.921875 \nL 10.984375 60.40625 \nL 10.984375 69.390625 \nL 28.421875 72.90625 \nL 38.28125 72.90625 \nL 38.28125 8.296875 \nL 54.390625 8.296875 \nL 54.390625 0 \nL 12.40625 0 \nz\n\" id=\"DejaVuSans-49\"/>\n       <path d=\"M 31.78125 66.40625 \nQ 24.171875 66.40625 20.328125 58.90625 \nQ 16.5 51.421875 16.5 36.375 \nQ 16.5 21.390625 20.328125 13.890625 \nQ 24.171875 6.390625 31.78125 6.390625 \nQ 39.453125 6.390625 43.28125 13.890625 \nQ 47.125 21.390625 47.125 36.375 \nQ 47.125 51.421875 43.28125 58.90625 \nQ 39.453125 66.40625 31.78125 66.40625 \nz\nM 31.78125 74.21875 \nQ 44.046875 74.21875 50.515625 64.515625 \nQ 56.984375 54.828125 56.984375 36.375 \nQ 56.984375 17.96875 50.515625 8.265625 \nQ 44.046875 -1.421875 31.78125 -1.421875 \nQ 19.53125 -1.421875 13.0625 8.265625 \nQ 6.59375 17.96875 6.59375 36.375 \nQ 6.59375 54.828125 13.0625 64.515625 \nQ 19.53125 74.21875 31.78125 74.21875 \nz\n\" id=\"DejaVuSans-48\"/>\n      </defs>\n      <g transform=\"translate(587.900114 311.755937)scale(0.1 -0.1)\">\n       <use xlink:href=\"#DejaVuSans-49\"/>\n       <use x=\"63.623047\" xlink:href=\"#DejaVuSans-48\"/>\n      </g>\n     </g>\n    </g>\n    <g id=\"text_6\">\n     <!-- Word Count -->\n     <defs>\n      <path d=\"M 3.328125 72.90625 \nL 13.28125 72.90625 \nL 28.609375 11.28125 \nL 43.890625 72.90625 \nL 54.984375 72.90625 \nL 70.3125 11.28125 \nL 85.59375 72.90625 \nL 95.609375 72.90625 \nL 77.296875 0 \nL 64.890625 0 \nL 49.515625 63.28125 \nL 33.984375 0 \nL 21.578125 0 \nz\n\" id=\"DejaVuSans-87\"/>\n      <path d=\"M 30.609375 48.390625 \nQ 23.390625 48.390625 19.1875 42.75 \nQ 14.984375 37.109375 14.984375 27.296875 \nQ 14.984375 17.484375 19.15625 11.84375 \nQ 23.34375 6.203125 30.609375 6.203125 \nQ 37.796875 6.203125 41.984375 11.859375 \nQ 46.1875 17.53125 46.1875 27.296875 \nQ 46.1875 37.015625 41.984375 42.703125 \nQ 37.796875 48.390625 30.609375 48.390625 \nz\nM 30.609375 56 \nQ 42.328125 56 49.015625 48.375 \nQ 55.71875 40.765625 55.71875 27.296875 \nQ 55.71875 13.875 49.015625 6.21875 \nQ 42.328125 -1.421875 30.609375 -1.421875 \nQ 18.84375 -1.421875 12.171875 6.21875 \nQ 5.515625 13.875 5.515625 27.296875 \nQ 5.515625 40.765625 12.171875 48.375 \nQ 18.84375 56 30.609375 56 \nz\n\" id=\"DejaVuSans-111\"/>\n      <path d=\"M 41.109375 46.296875 \nQ 39.59375 47.171875 37.8125 47.578125 \nQ 36.03125 48 33.890625 48 \nQ 26.265625 48 22.1875 43.046875 \nQ 18.109375 38.09375 18.109375 28.8125 \nL 18.109375 0 \nL 9.078125 0 \nL 9.078125 54.6875 \nL 18.109375 54.6875 \nL 18.109375 46.1875 \nQ 20.953125 51.171875 25.484375 53.578125 \nQ 30.03125 56 36.53125 56 \nQ 37.453125 56 38.578125 55.875 \nQ 39.703125 55.765625 41.0625 55.515625 \nz\n\" id=\"DejaVuSans-114\"/>\n      <path d=\"M 45.40625 46.390625 \nL 45.40625 75.984375 \nL 54.390625 75.984375 \nL 54.390625 0 \nL 45.40625 0 \nL 45.40625 8.203125 \nQ 42.578125 3.328125 38.25 0.953125 \nQ 33.9375 -1.421875 27.875 -1.421875 \nQ 17.96875 -1.421875 11.734375 6.484375 \nQ 5.515625 14.40625 5.515625 27.296875 \nQ 5.515625 40.1875 11.734375 48.09375 \nQ 17.96875 56 27.875 56 \nQ 33.9375 56 38.25 53.625 \nQ 42.578125 51.265625 45.40625 46.390625 \nz\nM 14.796875 27.296875 \nQ 14.796875 17.390625 18.875 11.75 \nQ 22.953125 6.109375 30.078125 6.109375 \nQ 37.203125 6.109375 41.296875 11.75 \nQ 45.40625 17.390625 45.40625 27.296875 \nQ 45.40625 37.203125 41.296875 42.84375 \nQ 37.203125 48.484375 30.078125 48.484375 \nQ 22.953125 48.484375 18.875 42.84375 \nQ 14.796875 37.203125 14.796875 27.296875 \nz\n\" id=\"DejaVuSans-100\"/>\n      <path id=\"DejaVuSans-32\"/>\n      <path d=\"M 64.40625 67.28125 \nL 64.40625 56.890625 \nQ 59.421875 61.53125 53.78125 63.8125 \nQ 48.140625 66.109375 41.796875 66.109375 \nQ 29.296875 66.109375 22.65625 58.46875 \nQ 16.015625 50.828125 16.015625 36.375 \nQ 16.015625 21.96875 22.65625 14.328125 \nQ 29.296875 6.6875 41.796875 6.6875 \nQ 48.140625 6.6875 53.78125 8.984375 \nQ 59.421875 11.28125 64.40625 15.921875 \nL 64.40625 5.609375 \nQ 59.234375 2.09375 53.4375 0.328125 \nQ 47.65625 -1.421875 41.21875 -1.421875 \nQ 24.65625 -1.421875 15.125 8.703125 \nQ 5.609375 18.84375 5.609375 36.375 \nQ 5.609375 53.953125 15.125 64.078125 \nQ 24.65625 74.21875 41.21875 74.21875 \nQ 47.75 74.21875 53.53125 72.484375 \nQ 59.328125 70.75 64.40625 67.28125 \nz\n\" id=\"DejaVuSans-67\"/>\n      <path d=\"M 8.5 21.578125 \nL 8.5 54.6875 \nL 17.484375 54.6875 \nL 17.484375 21.921875 \nQ 17.484375 14.15625 20.5 10.265625 \nQ 23.53125 6.390625 29.59375 6.390625 \nQ 36.859375 6.390625 41.078125 11.03125 \nQ 45.3125 15.671875 45.3125 23.6875 \nL 45.3125 54.6875 \nL 54.296875 54.6875 \nL 54.296875 0 \nL 45.3125 0 \nL 45.3125 8.40625 \nQ 42.046875 3.421875 37.71875 1 \nQ 33.40625 -1.421875 27.6875 -1.421875 \nQ 18.265625 -1.421875 13.375 4.4375 \nQ 8.5 10.296875 8.5 21.578125 \nz\nM 31.109375 56 \nz\n\" id=\"DejaVuSans-117\"/>\n      <path d=\"M 54.890625 33.015625 \nL 54.890625 0 \nL 45.90625 0 \nL 45.90625 32.71875 \nQ 45.90625 40.484375 42.875 44.328125 \nQ 39.84375 48.1875 33.796875 48.1875 \nQ 26.515625 48.1875 22.3125 43.546875 \nQ 18.109375 38.921875 18.109375 30.90625 \nL 18.109375 0 \nL 9.078125 0 \nL 9.078125 54.6875 \nL 18.109375 54.6875 \nL 18.109375 46.1875 \nQ 21.34375 51.125 25.703125 53.5625 \nQ 30.078125 56 35.796875 56 \nQ 45.21875 56 50.046875 50.171875 \nQ 54.890625 44.34375 54.890625 33.015625 \nz\n\" id=\"DejaVuSans-110\"/>\n      <path d=\"M 18.3125 70.21875 \nL 18.3125 54.6875 \nL 36.8125 54.6875 \nL 36.8125 47.703125 \nL 18.3125 47.703125 \nL 18.3125 18.015625 \nQ 18.3125 11.328125 20.140625 9.421875 \nQ 21.96875 7.515625 27.59375 7.515625 \nL 36.8125 7.515625 \nL 36.8125 0 \nL 27.59375 0 \nQ 17.1875 0 13.234375 3.875 \nQ 9.28125 7.765625 9.28125 18.015625 \nL 9.28125 47.703125 \nL 2.6875 47.703125 \nL 2.6875 54.6875 \nL 9.28125 54.6875 \nL 9.28125 70.21875 \nz\n\" id=\"DejaVuSans-116\"/>\n     </defs>\n     <g transform=\"translate(305.479375 326.95375)scale(0.12 -0.12)\">\n      <use xlink:href=\"#DejaVuSans-87\"/>\n      <use x=\"93.001953\" xlink:href=\"#DejaVuSans-111\"/>\n      <use x=\"154.183594\" xlink:href=\"#DejaVuSans-114\"/>\n      <use x=\"193.546875\" xlink:href=\"#DejaVuSans-100\"/>\n      <use x=\"257.023438\" xlink:href=\"#DejaVuSans-32\"/>\n      <use x=\"288.810547\" xlink:href=\"#DejaVuSans-67\"/>\n      <use x=\"358.634766\" xlink:href=\"#DejaVuSans-111\"/>\n      <use x=\"419.816406\" xlink:href=\"#DejaVuSans-117\"/>\n      <use x=\"483.195312\" xlink:href=\"#DejaVuSans-110\"/>\n      <use x=\"546.574219\" xlink:href=\"#DejaVuSans-116\"/>\n     </g>\n    </g>\n   </g>\n   <g id=\"matplotlib.axis_2\">\n    <g id=\"ytick_1\">\n     <g id=\"line2d_6\">\n      <defs>\n       <path d=\"M 0 0 \nL -3.5 0 \n\" id=\"m8cae1647be\" style=\"stroke:#000000;stroke-width:0.8;\"/>\n      </defs>\n      <g>\n       <use style=\"stroke:#000000;stroke-width:0.8;\" x=\"61.62625\" xlink:href=\"#m8cae1647be\" y=\"297.1575\"/>\n      </g>\n     </g>\n     <g id=\"text_7\">\n      <!-- 0 -->\n      <g transform=\"translate(48.26375 300.956719)scale(0.1 -0.1)\">\n       <use xlink:href=\"#DejaVuSans-48\"/>\n      </g>\n     </g>\n    </g>\n    <g id=\"ytick_2\">\n     <g id=\"line2d_7\">\n      <g>\n       <use style=\"stroke:#000000;stroke-width:0.8;\" x=\"61.62625\" xlink:href=\"#m8cae1647be\" y=\"262.518514\"/>\n      </g>\n     </g>\n     <g id=\"text_8\">\n      <!-- 5000 -->\n      <defs>\n       <path d=\"M 10.796875 72.90625 \nL 49.515625 72.90625 \nL 49.515625 64.59375 \nL 19.828125 64.59375 \nL 19.828125 46.734375 \nQ 21.96875 47.46875 24.109375 47.828125 \nQ 26.265625 48.1875 28.421875 48.1875 \nQ 40.625 48.1875 47.75 41.5 \nQ 54.890625 34.8125 54.890625 23.390625 \nQ 54.890625 11.625 47.5625 5.09375 \nQ 40.234375 -1.421875 26.90625 -1.421875 \nQ 22.3125 -1.421875 17.546875 -0.640625 \nQ 12.796875 0.140625 7.71875 1.703125 \nL 7.71875 11.625 \nQ 12.109375 9.234375 16.796875 8.0625 \nQ 21.484375 6.890625 26.703125 6.890625 \nQ 35.15625 6.890625 40.078125 11.328125 \nQ 45.015625 15.765625 45.015625 23.390625 \nQ 45.015625 31 40.078125 35.4375 \nQ 35.15625 39.890625 26.703125 39.890625 \nQ 22.75 39.890625 18.8125 39.015625 \nQ 14.890625 38.140625 10.796875 36.28125 \nz\n\" id=\"DejaVuSans-53\"/>\n      </defs>\n      <g transform=\"translate(29.17625 266.317733)scale(0.1 -0.1)\">\n       <use xlink:href=\"#DejaVuSans-53\"/>\n       <use x=\"63.623047\" xlink:href=\"#DejaVuSans-48\"/>\n       <use x=\"127.246094\" xlink:href=\"#DejaVuSans-48\"/>\n       <use x=\"190.869141\" xlink:href=\"#DejaVuSans-48\"/>\n      </g>\n     </g>\n    </g>\n    <g id=\"ytick_3\">\n     <g id=\"line2d_8\">\n      <g>\n       <use style=\"stroke:#000000;stroke-width:0.8;\" x=\"61.62625\" xlink:href=\"#m8cae1647be\" y=\"227.879528\"/>\n      </g>\n     </g>\n     <g id=\"text_9\">\n      <!-- 10000 -->\n      <g transform=\"translate(22.81375 231.678747)scale(0.1 -0.1)\">\n       <use xlink:href=\"#DejaVuSans-49\"/>\n       <use x=\"63.623047\" xlink:href=\"#DejaVuSans-48\"/>\n       <use x=\"127.246094\" xlink:href=\"#DejaVuSans-48\"/>\n       <use x=\"190.869141\" xlink:href=\"#DejaVuSans-48\"/>\n       <use x=\"254.492188\" xlink:href=\"#DejaVuSans-48\"/>\n      </g>\n     </g>\n    </g>\n    <g id=\"ytick_4\">\n     <g id=\"line2d_9\">\n      <g>\n       <use style=\"stroke:#000000;stroke-width:0.8;\" x=\"61.62625\" xlink:href=\"#m8cae1647be\" y=\"193.240542\"/>\n      </g>\n     </g>\n     <g id=\"text_10\">\n      <!-- 15000 -->\n      <g transform=\"translate(22.81375 197.039761)scale(0.1 -0.1)\">\n       <use xlink:href=\"#DejaVuSans-49\"/>\n       <use x=\"63.623047\" xlink:href=\"#DejaVuSans-53\"/>\n       <use x=\"127.246094\" xlink:href=\"#DejaVuSans-48\"/>\n       <use x=\"190.869141\" xlink:href=\"#DejaVuSans-48\"/>\n       <use x=\"254.492188\" xlink:href=\"#DejaVuSans-48\"/>\n      </g>\n     </g>\n    </g>\n    <g id=\"ytick_5\">\n     <g id=\"line2d_10\">\n      <g>\n       <use style=\"stroke:#000000;stroke-width:0.8;\" x=\"61.62625\" xlink:href=\"#m8cae1647be\" y=\"158.601556\"/>\n      </g>\n     </g>\n     <g id=\"text_11\">\n      <!-- 20000 -->\n      <g transform=\"translate(22.81375 162.400774)scale(0.1 -0.1)\">\n       <use xlink:href=\"#DejaVuSans-50\"/>\n       <use x=\"63.623047\" xlink:href=\"#DejaVuSans-48\"/>\n       <use x=\"127.246094\" xlink:href=\"#DejaVuSans-48\"/>\n       <use x=\"190.869141\" xlink:href=\"#DejaVuSans-48\"/>\n       <use x=\"254.492188\" xlink:href=\"#DejaVuSans-48\"/>\n      </g>\n     </g>\n    </g>\n    <g id=\"ytick_6\">\n     <g id=\"line2d_11\">\n      <g>\n       <use style=\"stroke:#000000;stroke-width:0.8;\" x=\"61.62625\" xlink:href=\"#m8cae1647be\" y=\"123.96257\"/>\n      </g>\n     </g>\n     <g id=\"text_12\">\n      <!-- 25000 -->\n      <g transform=\"translate(22.81375 127.761788)scale(0.1 -0.1)\">\n       <use xlink:href=\"#DejaVuSans-50\"/>\n       <use x=\"63.623047\" xlink:href=\"#DejaVuSans-53\"/>\n       <use x=\"127.246094\" xlink:href=\"#DejaVuSans-48\"/>\n       <use x=\"190.869141\" xlink:href=\"#DejaVuSans-48\"/>\n       <use x=\"254.492188\" xlink:href=\"#DejaVuSans-48\"/>\n      </g>\n     </g>\n    </g>\n    <g id=\"ytick_7\">\n     <g id=\"line2d_12\">\n      <g>\n       <use style=\"stroke:#000000;stroke-width:0.8;\" x=\"61.62625\" xlink:href=\"#m8cae1647be\" y=\"89.323584\"/>\n      </g>\n     </g>\n     <g id=\"text_13\">\n      <!-- 30000 -->\n      <defs>\n       <path d=\"M 40.578125 39.3125 \nQ 47.65625 37.796875 51.625 33 \nQ 55.609375 28.21875 55.609375 21.1875 \nQ 55.609375 10.40625 48.1875 4.484375 \nQ 40.765625 -1.421875 27.09375 -1.421875 \nQ 22.515625 -1.421875 17.65625 -0.515625 \nQ 12.796875 0.390625 7.625 2.203125 \nL 7.625 11.71875 \nQ 11.71875 9.328125 16.59375 8.109375 \nQ 21.484375 6.890625 26.8125 6.890625 \nQ 36.078125 6.890625 40.9375 10.546875 \nQ 45.796875 14.203125 45.796875 21.1875 \nQ 45.796875 27.640625 41.28125 31.265625 \nQ 36.765625 34.90625 28.71875 34.90625 \nL 20.21875 34.90625 \nL 20.21875 43.015625 \nL 29.109375 43.015625 \nQ 36.375 43.015625 40.234375 45.921875 \nQ 44.09375 48.828125 44.09375 54.296875 \nQ 44.09375 59.90625 40.109375 62.90625 \nQ 36.140625 65.921875 28.71875 65.921875 \nQ 24.65625 65.921875 20.015625 65.03125 \nQ 15.375 64.15625 9.8125 62.3125 \nL 9.8125 71.09375 \nQ 15.4375 72.65625 20.34375 73.4375 \nQ 25.25 74.21875 29.59375 74.21875 \nQ 40.828125 74.21875 47.359375 69.109375 \nQ 53.90625 64.015625 53.90625 55.328125 \nQ 53.90625 49.265625 50.4375 45.09375 \nQ 46.96875 40.921875 40.578125 39.3125 \nz\n\" id=\"DejaVuSans-51\"/>\n      </defs>\n      <g transform=\"translate(22.81375 93.122802)scale(0.1 -0.1)\">\n       <use xlink:href=\"#DejaVuSans-51\"/>\n       <use x=\"63.623047\" xlink:href=\"#DejaVuSans-48\"/>\n       <use x=\"127.246094\" xlink:href=\"#DejaVuSans-48\"/>\n       <use x=\"190.869141\" xlink:href=\"#DejaVuSans-48\"/>\n       <use x=\"254.492188\" xlink:href=\"#DejaVuSans-48\"/>\n      </g>\n     </g>\n    </g>\n    <g id=\"ytick_8\">\n     <g id=\"line2d_13\">\n      <g>\n       <use style=\"stroke:#000000;stroke-width:0.8;\" x=\"61.62625\" xlink:href=\"#m8cae1647be\" y=\"54.684598\"/>\n      </g>\n     </g>\n     <g id=\"text_14\">\n      <!-- 35000 -->\n      <g transform=\"translate(22.81375 58.483816)scale(0.1 -0.1)\">\n       <use xlink:href=\"#DejaVuSans-51\"/>\n       <use x=\"63.623047\" xlink:href=\"#DejaVuSans-53\"/>\n       <use x=\"127.246094\" xlink:href=\"#DejaVuSans-48\"/>\n       <use x=\"190.869141\" xlink:href=\"#DejaVuSans-48\"/>\n       <use x=\"254.492188\" xlink:href=\"#DejaVuSans-48\"/>\n      </g>\n     </g>\n    </g>\n    <g id=\"text_15\">\n     <!-- Frequency -->\n     <defs>\n      <path d=\"M 9.8125 72.90625 \nL 51.703125 72.90625 \nL 51.703125 64.59375 \nL 19.671875 64.59375 \nL 19.671875 43.109375 \nL 48.578125 43.109375 \nL 48.578125 34.8125 \nL 19.671875 34.8125 \nL 19.671875 0 \nL 9.8125 0 \nz\n\" id=\"DejaVuSans-70\"/>\n      <path d=\"M 56.203125 29.59375 \nL 56.203125 25.203125 \nL 14.890625 25.203125 \nQ 15.484375 15.921875 20.484375 11.0625 \nQ 25.484375 6.203125 34.421875 6.203125 \nQ 39.59375 6.203125 44.453125 7.46875 \nQ 49.3125 8.734375 54.109375 11.28125 \nL 54.109375 2.78125 \nQ 49.265625 0.734375 44.1875 -0.34375 \nQ 39.109375 -1.421875 33.890625 -1.421875 \nQ 20.796875 -1.421875 13.15625 6.1875 \nQ 5.515625 13.8125 5.515625 26.8125 \nQ 5.515625 40.234375 12.765625 48.109375 \nQ 20.015625 56 32.328125 56 \nQ 43.359375 56 49.78125 48.890625 \nQ 56.203125 41.796875 56.203125 29.59375 \nz\nM 47.21875 32.234375 \nQ 47.125 39.59375 43.09375 43.984375 \nQ 39.0625 48.390625 32.421875 48.390625 \nQ 24.90625 48.390625 20.390625 44.140625 \nQ 15.875 39.890625 15.1875 32.171875 \nz\n\" id=\"DejaVuSans-101\"/>\n      <path d=\"M 14.796875 27.296875 \nQ 14.796875 17.390625 18.875 11.75 \nQ 22.953125 6.109375 30.078125 6.109375 \nQ 37.203125 6.109375 41.296875 11.75 \nQ 45.40625 17.390625 45.40625 27.296875 \nQ 45.40625 37.203125 41.296875 42.84375 \nQ 37.203125 48.484375 30.078125 48.484375 \nQ 22.953125 48.484375 18.875 42.84375 \nQ 14.796875 37.203125 14.796875 27.296875 \nz\nM 45.40625 8.203125 \nQ 42.578125 3.328125 38.25 0.953125 \nQ 33.9375 -1.421875 27.875 -1.421875 \nQ 17.96875 -1.421875 11.734375 6.484375 \nQ 5.515625 14.40625 5.515625 27.296875 \nQ 5.515625 40.1875 11.734375 48.09375 \nQ 17.96875 56 27.875 56 \nQ 33.9375 56 38.25 53.625 \nQ 42.578125 51.265625 45.40625 46.390625 \nL 45.40625 54.6875 \nL 54.390625 54.6875 \nL 54.390625 -20.796875 \nL 45.40625 -20.796875 \nz\n\" id=\"DejaVuSans-113\"/>\n      <path d=\"M 48.78125 52.59375 \nL 48.78125 44.1875 \nQ 44.96875 46.296875 41.140625 47.34375 \nQ 37.3125 48.390625 33.40625 48.390625 \nQ 24.65625 48.390625 19.8125 42.84375 \nQ 14.984375 37.3125 14.984375 27.296875 \nQ 14.984375 17.28125 19.8125 11.734375 \nQ 24.65625 6.203125 33.40625 6.203125 \nQ 37.3125 6.203125 41.140625 7.25 \nQ 44.96875 8.296875 48.78125 10.40625 \nL 48.78125 2.09375 \nQ 45.015625 0.34375 40.984375 -0.53125 \nQ 36.96875 -1.421875 32.421875 -1.421875 \nQ 20.0625 -1.421875 12.78125 6.34375 \nQ 5.515625 14.109375 5.515625 27.296875 \nQ 5.515625 40.671875 12.859375 48.328125 \nQ 20.21875 56 33.015625 56 \nQ 37.15625 56 41.109375 55.140625 \nQ 45.0625 54.296875 48.78125 52.59375 \nz\n\" id=\"DejaVuSans-99\"/>\n      <path d=\"M 32.171875 -5.078125 \nQ 28.375 -14.84375 24.75 -17.8125 \nQ 21.140625 -20.796875 15.09375 -20.796875 \nL 7.90625 -20.796875 \nL 7.90625 -13.28125 \nL 13.1875 -13.28125 \nQ 16.890625 -13.28125 18.9375 -11.515625 \nQ 21 -9.765625 23.484375 -3.21875 \nL 25.09375 0.875 \nL 2.984375 54.6875 \nL 12.5 54.6875 \nL 29.59375 11.921875 \nL 46.6875 54.6875 \nL 56.203125 54.6875 \nz\n\" id=\"DejaVuSans-121\"/>\n     </defs>\n     <g transform=\"translate(16.318125 192.253125)rotate(-90)scale(0.12 -0.12)\">\n      <use xlink:href=\"#DejaVuSans-70\"/>\n      <use x=\"50.269531\" xlink:href=\"#DejaVuSans-114\"/>\n      <use x=\"89.132812\" xlink:href=\"#DejaVuSans-101\"/>\n      <use x=\"150.65625\" xlink:href=\"#DejaVuSans-113\"/>\n      <use x=\"214.132812\" xlink:href=\"#DejaVuSans-117\"/>\n      <use x=\"277.511719\" xlink:href=\"#DejaVuSans-101\"/>\n      <use x=\"339.035156\" xlink:href=\"#DejaVuSans-110\"/>\n      <use x=\"402.414062\" xlink:href=\"#DejaVuSans-99\"/>\n      <use x=\"457.394531\" xlink:href=\"#DejaVuSans-121\"/>\n     </g>\n    </g>\n   </g>\n   <g id=\"patch_23\">\n    <path d=\"M 61.62625 297.1575 \nL 61.62625 25.3575 \n\" style=\"fill:none;stroke:#000000;stroke-linecap:square;stroke-linejoin:miter;stroke-width:0.8;\"/>\n   </g>\n   <g id=\"patch_24\">\n    <path d=\"M 619.62625 297.1575 \nL 619.62625 25.3575 \n\" style=\"fill:none;stroke:#000000;stroke-linecap:square;stroke-linejoin:miter;stroke-width:0.8;\"/>\n   </g>\n   <g id=\"patch_25\">\n    <path d=\"M 61.62625 297.1575 \nL 619.62625 297.1575 \n\" style=\"fill:none;stroke:#000000;stroke-linecap:square;stroke-linejoin:miter;stroke-width:0.8;\"/>\n   </g>\n   <g id=\"patch_26\">\n    <path d=\"M 61.62625 25.3575 \nL 619.62625 25.3575 \n\" style=\"fill:none;stroke:#000000;stroke-linecap:square;stroke-linejoin:miter;stroke-width:0.8;\"/>\n   </g>\n   <g id=\"text_16\">\n    <!-- Distribution - Article Word Count -->\n    <defs>\n     <path d=\"M 19.671875 64.796875 \nL 19.671875 8.109375 \nL 31.59375 8.109375 \nQ 46.6875 8.109375 53.6875 14.9375 \nQ 60.6875 21.78125 60.6875 36.53125 \nQ 60.6875 51.171875 53.6875 57.984375 \nQ 46.6875 64.796875 31.59375 64.796875 \nz\nM 9.8125 72.90625 \nL 30.078125 72.90625 \nQ 51.265625 72.90625 61.171875 64.09375 \nQ 71.09375 55.28125 71.09375 36.53125 \nQ 71.09375 17.671875 61.125 8.828125 \nQ 51.171875 0 30.078125 0 \nL 9.8125 0 \nz\n\" id=\"DejaVuSans-68\"/>\n     <path d=\"M 9.421875 54.6875 \nL 18.40625 54.6875 \nL 18.40625 0 \nL 9.421875 0 \nz\nM 9.421875 75.984375 \nL 18.40625 75.984375 \nL 18.40625 64.59375 \nL 9.421875 64.59375 \nz\n\" id=\"DejaVuSans-105\"/>\n     <path d=\"M 44.28125 53.078125 \nL 44.28125 44.578125 \nQ 40.484375 46.53125 36.375 47.5 \nQ 32.28125 48.484375 27.875 48.484375 \nQ 21.1875 48.484375 17.84375 46.4375 \nQ 14.5 44.390625 14.5 40.28125 \nQ 14.5 37.15625 16.890625 35.375 \nQ 19.28125 33.59375 26.515625 31.984375 \nL 29.59375 31.296875 \nQ 39.15625 29.25 43.1875 25.515625 \nQ 47.21875 21.78125 47.21875 15.09375 \nQ 47.21875 7.46875 41.1875 3.015625 \nQ 35.15625 -1.421875 24.609375 -1.421875 \nQ 20.21875 -1.421875 15.453125 -0.5625 \nQ 10.6875 0.296875 5.421875 2 \nL 5.421875 11.28125 \nQ 10.40625 8.6875 15.234375 7.390625 \nQ 20.0625 6.109375 24.8125 6.109375 \nQ 31.15625 6.109375 34.5625 8.28125 \nQ 37.984375 10.453125 37.984375 14.40625 \nQ 37.984375 18.0625 35.515625 20.015625 \nQ 33.0625 21.96875 24.703125 23.78125 \nL 21.578125 24.515625 \nQ 13.234375 26.265625 9.515625 29.90625 \nQ 5.8125 33.546875 5.8125 39.890625 \nQ 5.8125 47.609375 11.28125 51.796875 \nQ 16.75 56 26.8125 56 \nQ 31.78125 56 36.171875 55.265625 \nQ 40.578125 54.546875 44.28125 53.078125 \nz\n\" id=\"DejaVuSans-115\"/>\n     <path d=\"M 48.6875 27.296875 \nQ 48.6875 37.203125 44.609375 42.84375 \nQ 40.53125 48.484375 33.40625 48.484375 \nQ 26.265625 48.484375 22.1875 42.84375 \nQ 18.109375 37.203125 18.109375 27.296875 \nQ 18.109375 17.390625 22.1875 11.75 \nQ 26.265625 6.109375 33.40625 6.109375 \nQ 40.53125 6.109375 44.609375 11.75 \nQ 48.6875 17.390625 48.6875 27.296875 \nz\nM 18.109375 46.390625 \nQ 20.953125 51.265625 25.265625 53.625 \nQ 29.59375 56 35.59375 56 \nQ 45.5625 56 51.78125 48.09375 \nQ 58.015625 40.1875 58.015625 27.296875 \nQ 58.015625 14.40625 51.78125 6.484375 \nQ 45.5625 -1.421875 35.59375 -1.421875 \nQ 29.59375 -1.421875 25.265625 0.953125 \nQ 20.953125 3.328125 18.109375 8.203125 \nL 18.109375 0 \nL 9.078125 0 \nL 9.078125 75.984375 \nL 18.109375 75.984375 \nz\n\" id=\"DejaVuSans-98\"/>\n     <path d=\"M 4.890625 31.390625 \nL 31.203125 31.390625 \nL 31.203125 23.390625 \nL 4.890625 23.390625 \nz\n\" id=\"DejaVuSans-45\"/>\n     <path d=\"M 34.1875 63.1875 \nL 20.796875 26.90625 \nL 47.609375 26.90625 \nz\nM 28.609375 72.90625 \nL 39.796875 72.90625 \nL 67.578125 0 \nL 57.328125 0 \nL 50.6875 18.703125 \nL 17.828125 18.703125 \nL 11.1875 0 \nL 0.78125 0 \nz\n\" id=\"DejaVuSans-65\"/>\n     <path d=\"M 9.421875 75.984375 \nL 18.40625 75.984375 \nL 18.40625 0 \nL 9.421875 0 \nz\n\" id=\"DejaVuSans-108\"/>\n    </defs>\n    <g transform=\"translate(210.91625 19.3575)scale(0.16 -0.16)\">\n     <use xlink:href=\"#DejaVuSans-68\"/>\n     <use x=\"77.001953\" xlink:href=\"#DejaVuSans-105\"/>\n     <use x=\"104.785156\" xlink:href=\"#DejaVuSans-115\"/>\n     <use x=\"156.884766\" xlink:href=\"#DejaVuSans-116\"/>\n     <use x=\"196.09375\" xlink:href=\"#DejaVuSans-114\"/>\n     <use x=\"237.207031\" xlink:href=\"#DejaVuSans-105\"/>\n     <use x=\"264.990234\" xlink:href=\"#DejaVuSans-98\"/>\n     <use x=\"328.466797\" xlink:href=\"#DejaVuSans-117\"/>\n     <use x=\"391.845703\" xlink:href=\"#DejaVuSans-116\"/>\n     <use x=\"431.054688\" xlink:href=\"#DejaVuSans-105\"/>\n     <use x=\"458.837891\" xlink:href=\"#DejaVuSans-111\"/>\n     <use x=\"520.019531\" xlink:href=\"#DejaVuSans-110\"/>\n     <use x=\"583.398438\" xlink:href=\"#DejaVuSans-32\"/>\n     <use x=\"615.185547\" xlink:href=\"#DejaVuSans-45\"/>\n     <use x=\"651.269531\" xlink:href=\"#DejaVuSans-32\"/>\n     <use x=\"683.056641\" xlink:href=\"#DejaVuSans-65\"/>\n     <use x=\"751.464844\" xlink:href=\"#DejaVuSans-114\"/>\n     <use x=\"792.578125\" xlink:href=\"#DejaVuSans-116\"/>\n     <use x=\"831.787109\" xlink:href=\"#DejaVuSans-105\"/>\n     <use x=\"859.570312\" xlink:href=\"#DejaVuSans-99\"/>\n     <use x=\"914.550781\" xlink:href=\"#DejaVuSans-108\"/>\n     <use x=\"942.333984\" xlink:href=\"#DejaVuSans-101\"/>\n     <use x=\"1003.857422\" xlink:href=\"#DejaVuSans-32\"/>\n     <use x=\"1035.644531\" xlink:href=\"#DejaVuSans-87\"/>\n     <use x=\"1128.646484\" xlink:href=\"#DejaVuSans-111\"/>\n     <use x=\"1189.828125\" xlink:href=\"#DejaVuSans-114\"/>\n     <use x=\"1229.191406\" xlink:href=\"#DejaVuSans-100\"/>\n     <use x=\"1292.667969\" xlink:href=\"#DejaVuSans-32\"/>\n     <use x=\"1324.455078\" xlink:href=\"#DejaVuSans-67\"/>\n     <use x=\"1394.279297\" xlink:href=\"#DejaVuSans-111\"/>\n     <use x=\"1455.460938\" xlink:href=\"#DejaVuSans-117\"/>\n     <use x=\"1518.839844\" xlink:href=\"#DejaVuSans-110\"/>\n     <use x=\"1582.21875\" xlink:href=\"#DejaVuSans-116\"/>\n    </g>\n   </g>\n  </g>\n </g>\n <defs>\n  <clipPath id=\"p814ef21555\">\n   <rect height=\"271.8\" width=\"558\" x=\"61.62625\" y=\"25.3575\"/>\n  </clipPath>\n </defs>\n</svg>\n",
      "image/png": "[encoded data removed]"
     },
     "metadata": {
      "needs_background": "light"
     }
    }
   ],
   "source": [
    "fig = plt.figure(figsize=(10,5))\n",
    "\n",
    "plt.hist(\n",
    "    data_text['Word_Count'],\n",
    "    bins=20,\n",
    "    color='#60505C'\n",
    ")\n",
    "\n",
    "plt.title('Distribution - Article Word Count', fontsize=16)\n",
    "plt.ylabel('Frequency', fontsize=12)\n",
    "plt.xlabel('Word Count', fontsize=12)\n",
    "\n",
    "plt.show()"
   ]
  },
  {
   "cell_type": "code",
   "execution_count": 39,
   "metadata": {},
   "outputs": [],
   "source": [
    "headline_sentences=[''.join(text) for text in data_text['Refined_headlines']]"
   ]
  },
  {
   "cell_type": "code",
   "execution_count": 40,
   "metadata": {},
   "outputs": [],
   "source": [
    "vectorizer = CountVectorizer(max_features=5000)\n",
    "x_counts = vectorizer.fit_transform(headline_sentences)"
   ]
  },
  {
   "cell_type": "code",
   "execution_count": 41,
   "metadata": {},
   "outputs": [
    {
     "output_type": "execute_result",
     "data": {
      "text/plain": [
       "<100000x5000 sparse matrix of type '<class 'numpy.int64'>'\n",
       "\twith 449845 stored elements in Compressed Sparse Row format>"
      ]
     },
     "metadata": {},
     "execution_count": 41
    }
   ],
   "source": [
    "x_counts"
   ]
  },
  {
   "cell_type": "code",
   "execution_count": 42,
   "metadata": {},
   "outputs": [],
   "source": [
    "transformer = TfidfTransformer()\n",
    "x_tfidf = transformer.fit_transform(x_counts)"
   ]
  },
  {
   "cell_type": "code",
   "execution_count": 43,
   "metadata": {},
   "outputs": [
    {
     "output_type": "execute_result",
     "data": {
      "text/plain": [
       "<100000x5000 sparse matrix of type '<class 'numpy.float64'>'\n",
       "\twith 449845 stored elements in Compressed Sparse Row format>"
      ]
     },
     "metadata": {},
     "execution_count": 43
    }
   ],
   "source": [
    "x_tfidf"
   ]
  },
  {
   "cell_type": "code",
   "execution_count": 44,
   "metadata": {},
   "outputs": [],
   "source": [
    "xtfidf_norm = normalize(x_tfidf, norm='l1', axis=1)"
   ]
  },
  {
   "cell_type": "code",
   "execution_count": 45,
   "metadata": {},
   "outputs": [
    {
     "output_type": "execute_result",
     "data": {
      "text/plain": [
       "NMF(init='nndsvd', n_components=5)"
      ]
     },
     "metadata": {},
     "execution_count": 45
    }
   ],
   "source": [
    "#number of topics\n",
    "num_topics=5\n",
    "#obtain a NMF model.\n",
    "model = NMF(n_components=num_topics, init='nndsvd')\n",
    "#fit the model\n",
    "model.fit(xtfidf_norm)"
   ]
  },
  {
   "cell_type": "code",
   "execution_count": 46,
   "metadata": {},
   "outputs": [],
   "source": [
    "def get_nmf_topics(model, n_top_words):\n",
    "    \n",
    "    #the word ids obtained need to be reverse-mapped to the words so we can print the topic names.\n",
    "    feat_names = vectorizer.get_feature_names()\n",
    "    \n",
    "    word_dict = {}\n",
    "    for i in range(num_topics):\n",
    "        \n",
    "        #for each topic, obtain the largest values, and add the words they map to into the dictionary.\n",
    "        words_ids = model.components_[i].argsort()[:-n_top_words - 1:-1]\n",
    "        words = [feat_names[key] for key in words_ids]\n",
    "        word_dict['Topic # ' + '{:02d}'.format(i+1)] = words\n",
    "    \n",
    "    return pd.DataFrame(word_dict)"
   ]
  },
  {
   "cell_type": "code",
   "execution_count": 47,
   "metadata": {},
   "outputs": [
    {
     "output_type": "execute_result",
     "data": {
      "text/plain": [
       "     Topic # 01  Topic # 02 Topic # 03  Topic # 04 Topic # 05\n",
       "0        police          us        man     council        new\n",
       "1         probe        iraq    charged        govt    zealand\n",
       "2   investigate      killed      court        plan       laws\n",
       "3       missing      troops     murder       water  president\n",
       "4        search       iraqi       dies       urged   hospital\n",
       "5         death         war       face         nsw        set\n",
       "6      shooting        says        car        says      chief\n",
       "7         fatal     baghdad      crash        call     record\n",
       "8           car     soldier     killed       boost     centre\n",
       "9         crash    soldiers   hospital          wa       home\n",
       "10         seek      attack     jailed         qld       deal\n",
       "11         hunt         two    charges       funds       york\n",
       "12         road      forces   stabbing     rejects       lead\n",
       "13         fire          un     charge         vic      mayor\n",
       "14         find      report   accident      claims        get\n",
       "15         drug        open      woman        fire    england\n",
       "16       arrest        bush    missing      health      coach\n",
       "17     continue    military     sydney     funding       year\n",
       "18       sydney       korea      faces   considers         pm\n",
       "19         name       three     attack        back       test\n",
       "20       victim        bomb    assault      report      signs\n",
       "21           wa       trade     guilty          sa  announces\n",
       "22         body      dollar   arrested         act        ceo\n",
       "23        woman       north      found      public       gets\n",
       "24         help      saddam      trial     support   appoints\n",
       "25         call        dead    injured       group       high\n",
       "26       murder     attacks     search       backs      world\n",
       "27      drivers       talks      front     defends        may\n",
       "28       claims   australia       dead    concerns  challenge\n",
       "29          vic  australian   shooting  indigenous       sets"
      ],
      "text/html": "<div>\n<style scoped>\n    .dataframe tbody tr th:only-of-type {\n        vertical-align: middle;\n    }\n\n    .dataframe tbody tr th {\n        vertical-align: top;\n    }\n\n    .dataframe thead th {\n        text-align: right;\n    }\n</style>\n<table border=\"1\" class=\"dataframe\">\n  <thead>\n    <tr style=\"text-align: right;\">\n      <th></th>\n      <th>Topic # 01</th>\n      <th>Topic # 02</th>\n      <th>Topic # 03</th>\n      <th>Topic # 04</th>\n      <th>Topic # 05</th>\n    </tr>\n  </thead>\n  <tbody>\n    <tr>\n      <th>0</th>\n      <td>police</td>\n      <td>us</td>\n      <td>man</td>\n      <td>council</td>\n      <td>new</td>\n    </tr>\n    <tr>\n      <th>1</th>\n      <td>probe</td>\n      <td>iraq</td>\n      <td>charged</td>\n      <td>govt</td>\n      <td>zealand</td>\n    </tr>\n    <tr>\n      <th>2</th>\n      <td>investigate</td>\n      <td>killed</td>\n      <td>court</td>\n      <td>plan</td>\n      <td>laws</td>\n    </tr>\n    <tr>\n      <th>3</th>\n      <td>missing</td>\n      <td>troops</td>\n      <td>murder</td>\n      <td>water</td>\n      <td>president</td>\n    </tr>\n    <tr>\n      <th>4</th>\n      <td>search</td>\n      <td>iraqi</td>\n      <td>dies</td>\n      <td>urged</td>\n      <td>hospital</td>\n    </tr>\n    <tr>\n      <th>5</th>\n      <td>death</td>\n      <td>war</td>\n      <td>face</td>\n      <td>nsw</td>\n      <td>set</td>\n    </tr>\n    <tr>\n      <th>6</th>\n      <td>shooting</td>\n      <td>says</td>\n      <td>car</td>\n      <td>says</td>\n      <td>chief</td>\n    </tr>\n    <tr>\n      <th>7</th>\n      <td>fatal</td>\n      <td>baghdad</td>\n      <td>crash</td>\n      <td>call</td>\n      <td>record</td>\n    </tr>\n    <tr>\n      <th>8</th>\n      <td>car</td>\n      <td>soldier</td>\n      <td>killed</td>\n      <td>boost</td>\n      <td>centre</td>\n    </tr>\n    <tr>\n      <th>9</th>\n      <td>crash</td>\n      <td>soldiers</td>\n      <td>hospital</td>\n      <td>wa</td>\n      <td>home</td>\n    </tr>\n    <tr>\n      <th>10</th>\n      <td>seek</td>\n      <td>attack</td>\n      <td>jailed</td>\n      <td>qld</td>\n      <td>deal</td>\n    </tr>\n    <tr>\n      <th>11</th>\n      <td>hunt</td>\n      <td>two</td>\n      <td>charges</td>\n      <td>funds</td>\n      <td>york</td>\n    </tr>\n    <tr>\n      <th>12</th>\n      <td>road</td>\n      <td>forces</td>\n      <td>stabbing</td>\n      <td>rejects</td>\n      <td>lead</td>\n    </tr>\n    <tr>\n      <th>13</th>\n      <td>fire</td>\n      <td>un</td>\n      <td>charge</td>\n      <td>vic</td>\n      <td>mayor</td>\n    </tr>\n    <tr>\n      <th>14</th>\n      <td>find</td>\n      <td>report</td>\n      <td>accident</td>\n      <td>claims</td>\n      <td>get</td>\n    </tr>\n    <tr>\n      <th>15</th>\n      <td>drug</td>\n      <td>open</td>\n      <td>woman</td>\n      <td>fire</td>\n      <td>england</td>\n    </tr>\n    <tr>\n      <th>16</th>\n      <td>arrest</td>\n      <td>bush</td>\n      <td>missing</td>\n      <td>health</td>\n      <td>coach</td>\n    </tr>\n    <tr>\n      <th>17</th>\n      <td>continue</td>\n      <td>military</td>\n      <td>sydney</td>\n      <td>funding</td>\n      <td>year</td>\n    </tr>\n    <tr>\n      <th>18</th>\n      <td>sydney</td>\n      <td>korea</td>\n      <td>faces</td>\n      <td>considers</td>\n      <td>pm</td>\n    </tr>\n    <tr>\n      <th>19</th>\n      <td>name</td>\n      <td>three</td>\n      <td>attack</td>\n      <td>back</td>\n      <td>test</td>\n    </tr>\n    <tr>\n      <th>20</th>\n      <td>victim</td>\n      <td>bomb</td>\n      <td>assault</td>\n      <td>report</td>\n      <td>signs</td>\n    </tr>\n    <tr>\n      <th>21</th>\n      <td>wa</td>\n      <td>trade</td>\n      <td>guilty</td>\n      <td>sa</td>\n      <td>announces</td>\n    </tr>\n    <tr>\n      <th>22</th>\n      <td>body</td>\n      <td>dollar</td>\n      <td>arrested</td>\n      <td>act</td>\n      <td>ceo</td>\n    </tr>\n    <tr>\n      <th>23</th>\n      <td>woman</td>\n      <td>north</td>\n      <td>found</td>\n      <td>public</td>\n      <td>gets</td>\n    </tr>\n    <tr>\n      <th>24</th>\n      <td>help</td>\n      <td>saddam</td>\n      <td>trial</td>\n      <td>support</td>\n      <td>appoints</td>\n    </tr>\n    <tr>\n      <th>25</th>\n      <td>call</td>\n      <td>dead</td>\n      <td>injured</td>\n      <td>group</td>\n      <td>high</td>\n    </tr>\n    <tr>\n      <th>26</th>\n      <td>murder</td>\n      <td>attacks</td>\n      <td>search</td>\n      <td>backs</td>\n      <td>world</td>\n    </tr>\n    <tr>\n      <th>27</th>\n      <td>drivers</td>\n      <td>talks</td>\n      <td>front</td>\n      <td>defends</td>\n      <td>may</td>\n    </tr>\n    <tr>\n      <th>28</th>\n      <td>claims</td>\n      <td>australia</td>\n      <td>dead</td>\n      <td>concerns</td>\n      <td>challenge</td>\n    </tr>\n    <tr>\n      <th>29</th>\n      <td>vic</td>\n      <td>australian</td>\n      <td>shooting</td>\n      <td>indigenous</td>\n      <td>sets</td>\n    </tr>\n  </tbody>\n</table>\n</div>"
     },
     "metadata": {},
     "execution_count": 47
    }
   ],
   "source": [
    "get_nmf_topics(model, 30)"
   ]
  },
  {
   "cell_type": "code",
   "execution_count": 49,
   "metadata": {},
   "outputs": [
    {
     "output_type": "execute_result",
     "data": {
      "text/plain": [
       "array([3.65447914, 0.83573122, 0.43483651, ..., 0.        , 0.        ,\n",
       "       0.        ])"
      ]
     },
     "metadata": {},
     "execution_count": 49
    }
   ],
   "source": [
    "np.sort(model.components_[0])[::-1]"
   ]
  },
  {
   "cell_type": "code",
   "execution_count": null,
   "metadata": {},
   "outputs": [],
   "source": []
  }
 ],
 "metadata": {
  "kernelspec": {
   "name": "python383jvsc74a57bd01653b2515ac3f1a3937d8adb4194f649ba5cee10969476d7942c3cfbad8983fd",
   "display_name": "Python 3.8.3 64-bit ('base': conda)"
  },
  "language_info": {
   "codemirror_mode": {
    "name": "ipython",
    "version": 3
   },
   "file_extension": ".py",
   "mimetype": "text/x-python",
   "name": "python",
   "nbconvert_exporter": "python",
   "pygments_lexer": "ipython3",
   "version": "3.8.3"
  }
 },
 "nbformat": 4,
 "nbformat_minor": 4
}