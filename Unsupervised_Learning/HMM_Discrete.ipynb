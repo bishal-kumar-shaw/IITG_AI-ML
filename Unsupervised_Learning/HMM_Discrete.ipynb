{
 "cells": [
  {
   "source": [
    "# <center>Hidden Markov Model</center>"
   ],
   "cell_type": "markdown",
   "metadata": {}
  },
  {
   "cell_type": "code",
   "execution_count": 1,
   "metadata": {},
   "outputs": [],
   "source": [
    "import numpy as np"
   ]
  },
  {
   "cell_type": "code",
   "execution_count": 50,
   "metadata": {},
   "outputs": [],
   "source": [
    "# State Transition Matrix\n",
    "A = np.array([[0.1,0.5,0.4],    \n",
    "              [0.6,0.3,0.1],\n",
    "              [0.3,0.6,0.1]])\n",
    "\n",
    "# State-Output Association Probablity Matrix\n",
    "B = np.array([[0.3,0.4,0.3],\n",
    "              [0.4,0.2,0.4],\n",
    "              [0.6,0.2,0.2]])\n",
    "\n",
    "# Initial Probablity Vector\n",
    "p = np.array([0.3,0.4,0.3])\n",
    "\n",
    "# Observable State Vector\n",
    "O = [1,0,2,2,1,0] "
   ]
  },
  {
   "cell_type": "code",
   "execution_count": 51,
   "metadata": {},
   "outputs": [],
   "source": [
    "def forward_var(A,B,p,O):\n",
    "    T = len(O) \n",
    "    N = A.shape[0]\n",
    "    alpha = np.zeros((T,N))\n",
    "    for t in range(alpha.shape[0]):\n",
    "        for i in range(alpha.shape[1]):\n",
    "            if t==0:\n",
    "                alpha[t,i] = B[i,O[0]]*p[i]\n",
    "            else:\n",
    "                sum1=0\n",
    "                for k in range(A.shape[0]):\n",
    "                    sum1 += alpha[t-1,k]*A[k,i]    \n",
    "                alpha[t,i] =  sum1*B[i,O[t]]\n",
    "    return(alpha)"
   ]
  },
  {
   "cell_type": "code",
   "execution_count": 52,
   "metadata": {},
   "outputs": [
    {
     "output_type": "stream",
     "name": "stdout",
     "text": [
      "[[0.12       0.08       0.06      ]\n [0.0234     0.048      0.0372    ]\n [0.01269    0.019368   0.003576  ]\n [0.00418878 0.0057204  0.00147408]\n [0.00171734 0.00093899 0.00047899]\n [0.00026365 0.0005711  0.00049724]]\n"
     ]
    }
   ],
   "source": [
    "alpha = forward_var(A,B,p,O)\n",
    "print(alpha)"
   ]
  },
  {
   "cell_type": "code",
   "execution_count": 53,
   "metadata": {},
   "outputs": [],
   "source": [
    "def backward_var(A,B,p,O):\n",
    "    T = len(O)\n",
    "    N = A.shape[0]\n",
    "    beta = np.zeros((T,N))\n",
    "    for t in range(beta.shape[0]-1,-1,-1):\n",
    "        for i in range(beta.shape[1]):\n",
    "            if t == beta.shape[0]-1:\n",
    "                beta[t,i] = 1\n",
    "            else:\n",
    "                sum1=0\n",
    "                for j in range(A.shape[0]):\n",
    "                    sum1 += A[i,j]*B[j,O[t+1]]*beta[t+1,j]    \n",
    "                beta[t,i] =  sum1\n",
    "    return(beta)"
   ]
  },
  {
   "cell_type": "code",
   "execution_count": 54,
   "metadata": {},
   "outputs": [
    {
     "output_type": "stream",
     "name": "stdout",
     "text": [
      "[[0.0058493  0.00432376 0.00473626]\n [0.01164804 0.01217352 0.01277148]\n [0.039612   0.034692   0.044016  ]\n [0.086      0.1422     0.1074    ]\n [0.47       0.36       0.39      ]\n [1.         1.         1.        ]]\n"
     ]
    }
   ],
   "source": [
    "beta = backward_var(A,B,p,O)\n",
    "print(beta)"
   ]
  },
  {
   "cell_type": "code",
   "execution_count": 55,
   "metadata": {},
   "outputs": [],
   "source": [
    "def forward_eval(alpha):\n",
    "    prob = np.sum(alpha[-1,:])\n",
    "    return(prob)"
   ]
  },
  {
   "cell_type": "code",
   "execution_count": 56,
   "metadata": {},
   "outputs": [
    {
     "output_type": "stream",
     "name": "stdout",
     "text": [
      "0.001331992152\n"
     ]
    }
   ],
   "source": [
    "forward_prob = forward_eval(alpha)\n",
    "print(forward_prob)"
   ]
  },
  {
   "cell_type": "code",
   "execution_count": 57,
   "metadata": {},
   "outputs": [],
   "source": [
    "def backward_eval(B,beta,O):\n",
    "    vec1 = np.ravel(B[:,O[0]])\n",
    "    vec2 = np.ravel(beta[0,:])\n",
    "    prob = np.dot(vec1,vec2)\n",
    "    return(prob)"
   ]
  },
  {
   "cell_type": "code",
   "execution_count": 58,
   "metadata": {},
   "outputs": [
    {
     "output_type": "stream",
     "name": "stdout",
     "text": [
      "0.00415172328\n"
     ]
    }
   ],
   "source": [
    "backward_prob = backward_eval(B,beta,O)\n",
    "print(backward_prob)"
   ]
  },
  {
   "cell_type": "code",
   "execution_count": 59,
   "metadata": {},
   "outputs": [],
   "source": [
    "def gammaEval(alpha,beta):\n",
    "    gamma = np.multiply(alpha,beta) ## Element-wise product\n",
    "    statewise_sum = np.sum(gamma,axis=1)\n",
    "    statewise_sum = statewise_sum.reshape(len(statewise_sum),1)\n",
    "    gamma = gamma/statewise_sum\n",
    "    return(gamma)"
   ]
  },
  {
   "cell_type": "code",
   "execution_count": 60,
   "metadata": {},
   "outputs": [
    {
     "output_type": "stream",
     "name": "stdout",
     "text": [
      "[[0.5269671  0.25968672 0.21334618]\n [0.20462894 0.43868799 0.35668307]\n [0.37738682 0.5044434  0.11816978]\n [0.27044835 0.61069495 0.1188567 ]\n [0.60597076 0.25378301 0.14024623]\n [0.197935   0.42875961 0.37330539]]\n"
     ]
    }
   ],
   "source": [
    "gamma = gammaEval(alpha,beta)\n",
    "print(gamma)"
   ]
  },
  {
   "cell_type": "code",
   "execution_count": 61,
   "metadata": {},
   "outputs": [],
   "source": [
    "def Viterbi(A,B,p,O):\n",
    "    T = len(O)\n",
    "    N = A.shape[0]\n",
    "    delta = np.zeros((T,N))\n",
    "    psi = np.zeros((T,N))\n",
    "    optim_state = []\n",
    "    for t in range(delta.shape[0]):\n",
    "        for i in range(delta.shape[1]):\n",
    "            if t==0:\n",
    "                delta[t,i] = B[i,O[0]]*p[i]\n",
    "                psi[t,i] = 0\n",
    "            else:\n",
    "                ls = []\n",
    "                for k in range(N):\n",
    "                    val = delta[t-1,k]*A[k,i]*B[i,O[t]]\n",
    "                    ls.append(val)\n",
    "                arr = np.array(ls)\n",
    "                max_val = np.max(arr)\n",
    "                max_val_idx = np.argmax(arr)\n",
    "                delta[t,i] = max_val\n",
    "                psi[t,i] = max_val_idx\n",
    "    final_state_val = np.ravel(delta[-1,:])\n",
    "    idx = np.argmax(final_state_val)\n",
    "    optim_state.append(idx)\n",
    "    for t in range(T-2,-1,-1):\n",
    "        idx = psi[t,idx]\n",
    "        idx = int(idx)\n",
    "        optim_state.append(idx)\n",
    "    optim_state = optim_state[::-1] \n",
    "    return(optim_state)"
   ]
  },
  {
   "cell_type": "code",
   "execution_count": 62,
   "metadata": {},
   "outputs": [
    {
     "output_type": "stream",
     "name": "stdout",
     "text": [
      "[0, 0, 2, 1, 0, 2]\n"
     ]
    }
   ],
   "source": [
    "optim_state = Viterbi(A,B,p,O)\n",
    "print(optim_state)"
   ]
  },
  {
   "cell_type": "code",
   "execution_count": 63,
   "metadata": {},
   "outputs": [],
   "source": [
    "def joint_state_measure(A,B,alpha,beta,O):\n",
    "    N = A.shape[0]\n",
    "    T = len(O)\n",
    "    eta = np.zeros((T-1,N,N))\n",
    "    \n",
    "    for t in range(eta.shape[0]):\n",
    "        sum1 = 0\n",
    "        for i in range(eta.shape[1]):\n",
    "            for j in range(eta.shape[2]):\n",
    "                eta[t,i,j] = alpha[t,i]*A[i,j]*B[j,O[t+1]]*beta[t+1,j]\n",
    "                sum1 += eta[t,i,j]\n",
    "        eta[t,:,:] = eta[t,:,:]/sum1\n",
    "    return(eta)"
   ]
  },
  {
   "cell_type": "code",
   "execution_count": 64,
   "metadata": {},
   "outputs": [
    {
     "output_type": "stream",
     "name": "stdout",
     "text": [
      "[[[0.03148137 0.219344   0.27614174]\n  [0.1259255  0.0877376  0.04602362]\n  [0.04722206 0.1316064  0.03451772]]\n\n [[0.02087672 0.12189153 0.06186069]\n  [0.25694422 0.15002034 0.03172343]\n  [0.09956588 0.23253153 0.02458566]]\n\n [[0.02457987 0.27095025 0.0818567 ]\n  [0.22508889 0.24812125 0.03123327]\n  [0.02077958 0.09162346 0.00576674]]\n\n [[0.05912127 0.11321094 0.09811615]\n  [0.48443312 0.09276379 0.03349804]\n  [0.06241637 0.04780828 0.00863205]]\n\n [[0.03867898 0.2578599  0.30943188]\n  [0.1268915  0.08459434 0.04229717]\n  [0.03236452 0.08630537 0.02157634]]]\n"
     ]
    }
   ],
   "source": [
    "eta = joint_state_measure(A,B,alpha,beta,O)\n",
    "print(eta)"
   ]
  },
  {
   "cell_type": "code",
   "execution_count": 65,
   "metadata": {},
   "outputs": [],
   "source": [
    "def Baum_Welch(eta,gamma,A,B,p,O):\n",
    "    N = A.shape[0]\n",
    "    M = B.shape[1]\n",
    "    mod_A = np.zeros((N,N))\n",
    "    mod_B = np.zeros((N,M))\n",
    "    mod_p = np.zeros(N)\n",
    "    \n",
    "    for i in range(len(mod_p)):\n",
    "        mod_p[i] = gamma[0,i]\n",
    "    \n",
    "    for i in range(mod_A.shape[0]):\n",
    "        for j in range(mod_A.shape[1]):\n",
    "            num_sum = 0\n",
    "            denom_sum = 0\n",
    "            for t in range(eta.shape[0]):\n",
    "                num_sum += eta[t,i,j]\n",
    "                denom_sum += gamma[t,i]\n",
    "            a = num_sum/denom_sum\n",
    "            mod_A[i,j] = a \n",
    "    \n",
    "    for j in range(B.shape[0]):\n",
    "        for k in range(B.shape[1]):\n",
    "            num_sum = 0\n",
    "            denom_sum = 0\n",
    "            for t in range(gamma.shape[0]):\n",
    "                if O[t] == k:\n",
    "                    num_sum += gamma[t,j]\n",
    "                denom_sum += gamma[t,j]\n",
    "            b = num_sum/denom_sum\n",
    "            mod_B[j,k] = b\n",
    "            \n",
    "    return(mod_A,mod_B,mod_p)"
   ]
  },
  {
   "cell_type": "code",
   "execution_count": 66,
   "metadata": {},
   "outputs": [
    {
     "output_type": "execute_result",
     "data": {
      "text/plain": [
       "(array([[0.08801151, 0.49524309, 0.4167454 ],\n",
       "        [0.58979614, 0.32082357, 0.08938029],\n",
       "        [0.27694275, 0.62268956, 0.10036769]]),\n",
       " array([[0.18438012, 0.51890197, 0.2967179 ],\n",
       "        [0.34752734, 0.20571245, 0.44676021],\n",
       "        [0.55276723, 0.26774984, 0.17948293]]),\n",
       " array([0.5269671 , 0.25968672, 0.21334618]))"
      ]
     },
     "metadata": {},
     "execution_count": 66
    }
   ],
   "source": [
    "Baum_Welch(eta,gamma,A,B,p,O)"
   ]
  },
  {
   "cell_type": "code",
   "execution_count": null,
   "metadata": {},
   "outputs": [],
   "source": []
  }
 ],
 "metadata": {
  "kernelspec": {
   "name": "python383jvsc74a57bd01653b2515ac3f1a3937d8adb4194f649ba5cee10969476d7942c3cfbad8983fd",
   "display_name": "Python 3.8.3 64-bit"
  },
  "language_info": {
   "codemirror_mode": {
    "name": "ipython",
    "version": 3
   },
   "file_extension": ".py",
   "mimetype": "text/x-python",
   "name": "python",
   "nbconvert_exporter": "python",
   "pygments_lexer": "ipython3",
   "version": "3.8.3"
  }
 },
 "nbformat": 4,
 "nbformat_minor": 4
}