{
 "cells": [
  {
   "cell_type": "markdown",
   "metadata": {},
   "source": [
    "### <u>Machine Learning and NLP</u>\n",
    "\n",
    "# Module 3 - Supervised Learning - Classification \n",
    "\n",
    "### Demo 1 - Receiver Operating Characteristics"
   ]
  },
  {
   "cell_type": "markdown",
   "metadata": {},
   "source": [
    "In this demo, you will use chebyshev inquality based classifer and evaluate it using ROC curve."
   ]
  },
  {
   "cell_type": "markdown",
   "metadata": {},
   "source": [
    "---"
   ]
  },
  {
   "cell_type": "markdown",
   "metadata": {},
   "source": [
    "## Problem Statement"
   ]
  },
  {
   "cell_type": "markdown",
   "metadata": {},
   "source": [
    "Creating a Python function to generate n number of points\n",
    "in a ring on 2D plane centred at (c_x, c_y) of respective inner and\n",
    "outer radius r_inner and r_outer. Using this function generate points within the ring and display the scatter plot of the\n",
    "positive class points and negative class points in red and blue colour\n",
    "respectively. Using the **Chebyshev inequality based classifier** on the positive class\n",
    "points and plot the **ROC curve**."
   ]
  },
  {
   "cell_type": "markdown",
   "metadata": {},
   "source": [
    "---"
   ]
  },
  {
   "cell_type": "markdown",
   "metadata": {},
   "source": [
    "## Importing Required Libraries"
   ]
  },
  {
   "cell_type": "code",
   "execution_count": 1,
   "metadata": {},
   "outputs": [],
   "source": [
    "import numpy as np\n",
    "import matplotlib.pyplot as plt\n",
    "import matplotlib.patches as mpatches"
   ]
  },
  {
   "cell_type": "markdown",
   "metadata": {},
   "source": [
    "## Python function to Generate Points Within a RING"
   ]
  },
  {
   "cell_type": "code",
   "execution_count": 2,
   "metadata": {},
   "outputs": [],
   "source": [
    "def genRandPointsInRing(r_inner_pos, r_outer_pos, r_inner_neg, r_outer_neg, centre, n):\n",
    "     \n",
    "    r_in_arr = np.random.uniform(r_inner_pos, r_outer_pos,n)\n",
    "    r_out_arr = np.random.uniform(r_inner_neg,r_outer_neg,n)\n",
    "    theta_arr = np.random.uniform(0,2*np.pi,n)\n",
    "   \n",
    "    cos_theta = np.cos(theta_arr)\n",
    "    sin_theta = np.sin(theta_arr)\n",
    "    c1 = centre[0]\n",
    "    c2 = centre[1]\n",
    "    \n",
    "    x_inn = c1 + np.multiply(r_in_arr,cos_theta)\n",
    "    y_inn = c2 + np.multiply(r_in_arr,sin_theta)\n",
    "   \n",
    "    x_out = c1 + np.multiply(r_out_arr,cos_theta)\n",
    "    y_out = c2 + np.multiply(r_out_arr,sin_theta)\n",
    "\n",
    "    return (x_inn, x_out, y_inn, y_out)"
   ]
  },
  {
   "cell_type": "markdown",
   "metadata": {},
   "source": [
    "## Plot to show the distribution of both classes"
   ]
  },
  {
   "cell_type": "code",
   "execution_count": 21,
   "metadata": {},
   "outputs": [
    {
     "data": {
      "image/png": "[encoded data removed]",
      "text/plain": [
       "<Figure size 432x288 with 1 Axes>"
      ]
     },
     "metadata": {
      "needs_background": "light"
     },
     "output_type": "display_data"
    }
   ],
   "source": [
    "x_inn,x_out,y_inn,y_out = genRandPointsInRing(3,7,8,20,[0,0],1000)\n",
    "fig = plt.figure()\n",
    "plt.scatter(x_inn,y_inn,c = \"red\")\n",
    "plt.scatter(x_out,y_out,c = \"blue\")\n",
    "red_patch = mpatches.Patch(color='red', label='Positive Class')\n",
    "blue_patch = mpatches.Patch(color='blue', label='Negative Class')\n",
    "plt.legend(handles=[red_patch,blue_patch])\n",
    "plt.title(\"Distribution of classes\")\n",
    "plt.show()"
   ]
  },
  {
   "cell_type": "markdown",
   "metadata": {},
   "source": [
    "## Generating a Data Set out of the points and printing its shape"
   ]
  },
  {
   "cell_type": "code",
   "execution_count": 22,
   "metadata": {},
   "outputs": [
    {
     "name": "stdout",
     "output_type": "stream",
     "text": [
      "(2000, 3)\n"
     ]
    }
   ],
   "source": [
    "x_total = np.append(x_inn,x_out)\n",
    "y_total = np.append(y_inn,y_out)\n",
    "\n",
    "features = np.hstack((np.matrix(x_total).T,np.matrix(y_total).T))\n",
    "label = np.array([])\n",
    "\n",
    "for i in range(len(x_inn)+len(x_out)):\n",
    "    if(i<len(x_inn)):\n",
    "        label = np.append(label,1)               ## Positive class\n",
    "    else:\n",
    "        label = np.append(label,0)               ## Negative class\n",
    "        \n",
    "data_set = np.hstack((features,np.matrix(label).T))\n",
    "np.random.shuffle(data_set)\n",
    "print(data_set.shape)"
   ]
  },
  {
   "cell_type": "markdown",
   "metadata": {},
   "source": [
    "## Function to classify Data based on Chebyshev's Inequality"
   ]
  },
  {
   "cell_type": "code",
   "execution_count": 23,
   "metadata": {},
   "outputs": [],
   "source": [
    "def classifier_perf(data_set,K):\n",
    "   \n",
    "    row,col = data_set.shape\n",
    "    ls1 = []\n",
    "    for i in range(row):\n",
    "        if data_set[i,-1] == 1:\n",
    "            ls1.append(np.squeeze(np.asarray(data_set[i,:col-1])))\n",
    "            \n",
    "    pos_data = np.matrix(ls1)\n",
    "   \n",
    "    mean = np.squeeze(np.asarray(np.mean(pos_data,axis=0)))\n",
    "    std = np.squeeze(np.asarray(np.std(pos_data,axis=0)))\n",
    "      \n",
    "    u_x = mean[0]\n",
    "    u_y = mean[1]\n",
    "   \n",
    "    sig_x = std[0]\n",
    "    sig_y = std[1]\n",
    "   \n",
    "    TP = 0\n",
    "    FP = 0\n",
    "    TN = 0\n",
    "    FN = 0\n",
    "   \n",
    "    for i in range(row):\n",
    "        z = np.square((data_set[i,0]-u_x)/sig_x) + np.square((data_set[i,1]-u_y)/sig_y)  # chebychev's rule\n",
    "        z = np.sqrt(z)\n",
    "        if(z<=K):\n",
    "            pred_op = 1\n",
    "        else:\n",
    "            pred_op = 0\n",
    "            \n",
    "        if(pred_op == 1 and data_set[i,2] == 1):\n",
    "            TP +=1\n",
    "        elif(pred_op == 0 and data_set[i,2] == 0):\n",
    "            TN +=1    \n",
    "        elif (pred_op == 1 and data_set[i,2] == 0):\n",
    "            FP +=1\n",
    "        else:\n",
    "            FN +=1\n",
    "   \n",
    "    FPR = FP/(FP+TN)\n",
    "    TPR = TP/(TP+FN)\n",
    "   \n",
    "    return (FPR, TPR)"
   ]
  },
  {
   "cell_type": "markdown",
   "metadata": {},
   "source": [
    "## Checking the classifer's performance by varying 'K' over a range"
   ]
  },
  {
   "cell_type": "code",
   "execution_count": 24,
   "metadata": {},
   "outputs": [],
   "source": [
    "K_range = np.arange(0.5,10,0.5)\n",
    "FPR_ls = []\n",
    "TPR_ls = []            \n",
    "for i in K_range:  \n",
    "    FPR,TPR = classifier_perf(data_set,i)\n",
    "    FPR_ls.append(FPR)\n",
    "    TPR_ls.append(TPR)"
   ]
  },
  {
   "cell_type": "markdown",
   "metadata": {},
   "source": [
    "## Plot to show the ROC of the Classifier"
   ]
  },
  {
   "cell_type": "code",
   "execution_count": 25,
   "metadata": {},
   "outputs": [
    {
     "data": {
      "image/png": "[encoded data removed]",
      "text/plain": [
       "<Figure size 432x288 with 1 Axes>"
      ]
     },
     "metadata": {
      "needs_background": "light"
     },
     "output_type": "display_data"
    }
   ],
   "source": [
    "fig = plt.figure()\n",
    "plt.ylabel(\"Sensitivity\")\n",
    "plt.xlabel(\"False Alarm Rate\")\n",
    "plt.plot([0, 1], [0, 1],'r--')\n",
    "plt.title(\"ROC of Classifier\")\n",
    "plt.plot(FPR_ls,TPR_ls)\n",
    "plt.show()"
   ]
  },
  {
   "cell_type": "markdown",
   "metadata": {},
   "source": [
    "*__Conclusion__*: In this demonstration, we have gained an understanding about Chebyshev inequality based classifier and ROC curve."
   ]
  },
  {
   "cell_type": "code",
   "execution_count": null,
   "metadata": {},
   "outputs": [],
   "source": []
  }
 ],
 "metadata": {
  "kernelspec": {
   "display_name": "Python 3",
   "language": "python",
   "name": "python3"
  },
  "language_info": {
   "codemirror_mode": {
    "name": "ipython",
    "version": 3
   },
   "file_extension": ".py",
   "mimetype": "text/x-python",
   "name": "python",
   "nbconvert_exporter": "python",
   "pygments_lexer": "ipython3",
   "version": "3.7.7"
  }
 },
 "nbformat": 4,
 "nbformat_minor": 2
}
